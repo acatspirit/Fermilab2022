{
 "cells": [
  {
   "cell_type": "code",
   "execution_count": 105,
   "id": "4303adae",
   "metadata": {},
   "outputs": [],
   "source": [
    "%matplotlib inline\n",
    "import matplotlib.pyplot as plt\n",
    "import matplotlib as mpl\n",
    "import numpy as np\n",
    "from IPython.display import Image\n",
    "from qutip import *\n",
    "from math import sqrt\n",
    "from scipy.optimize import curve_fit\n",
    "from scipy.signal import argrelextrema, find_peaks"
   ]
  },
  {
   "cell_type": "code",
   "execution_count": 36,
   "id": "f73ceef9",
   "metadata": {},
   "outputs": [],
   "source": [
    "from qutip.ipynbtools import plot_animation\n",
    "from mpl_toolkits.mplot3d import Axes3D\n",
    "from matplotlib import cm\n",
    "import matplotlib.animation as animation\n",
    "from IPython.display import HTML"
   ]
  },
  {
   "cell_type": "code",
   "execution_count": 93,
   "id": "8f572227",
   "metadata": {},
   "outputs": [],
   "source": [
    "#\n",
    "# System constants\n",
    "#\n",
    "# https://journals.aps.org/prl/pdf/10.1103/PhysRevLett.105.173601?casa_token=ZeV560uY7gMAAAAA%3AFVbNRofeaxpIhNUnGl8zt3SMTmx20CgngNv3gdXy9uHARf2OrcENzKAsLoVHqnZ3zZm5WqjGmbITig \n",
    "# https://journals.aps.org/prl/pdf/10.1103/PhysRevLett.105.100505?casa_token=kO3ld98M9VsAAAAA%3Ad3hMI-n-0txuQ-Jp8HbD3lEe0YXSHpdwX35XU49pUEHSoF6SBciFzyCnIcE-6M4ukZAiIh3WeET2lw\n",
    "# Schuster Thesis\n",
    "GHz = 10**9 #Hz\n",
    "wc = 5.5 * GHz * 2 * np.pi # cavity frequency (5.5 GHz Schuster)\n",
    "wa = wc + 0.8*GHz*2*np.pi # qubit frequency, wa + 0.35 GHz Schuster, 0.002 good for rabi\n",
    "g = 0.017 * GHz * 2 * np.pi # coupling strength (orignally 0.017 GHz)\n",
    "N = 20       # num cavity fock states\n",
    "use_rwa = True       # rotating wave approx.? Only use when wa-wc small\n",
    "n_th_a = 0  # number of thermal photons entering the cavity, 200 mK\n",
    "n = 0  # starting fock state of the system\n",
    "\n",
    "\n",
    "# the list of 'times' to evolve over\n",
    "tlist = np.linspace(0, 50/GHz, 101) # tlist = np.linspace(0,25,101) pedagogical value\n",
    "\n",
    "# cavity dissapation rate\n",
    "# kappa = 0.0005  * GHz * 2 * np.pi \n",
    "kappa = 0.0#005  * GHz * 2 * np.pi \n",
    "\n",
    "# qubit dissapation rate\n",
    "# gamma = 0.002 * 2 * np.pi * kappa # (g/(wa-wc))^2k \n",
    "gamma = 0.0#02 * 2 * np.pi * kappa"
   ]
  },
  {
   "cell_type": "code",
   "execution_count": 94,
   "id": "52b937e5",
   "metadata": {},
   "outputs": [
    {
     "name": "stdout",
     "output_type": "stream",
     "text": [
      "Expected Rabi Oscillation Frequency 5.031085799063596 GHz\n",
      "Expected Rabi Oscillation Period 0.198764250887179 ns\n"
     ]
    }
   ],
   "source": [
    "# Calculate expected Rabi Oscillation Frequency\n",
    "# https://en.wikipedia.org/wiki/Vacuum_Rabi_oscillation\n",
    "# https://www.rp-photonics.com/rabi_oscillations.html#:~:text=The%20angular%20frequency%20of%20the,amplitude%20divided%20by%20Planck's%20constant.\n",
    "\n",
    "r = sqrt(4*(g**2)*(n + 1) + (wa-wc)**2)/GHz # rabi frequency in GHz\n",
    "print(f\"Expected Rabi Oscillation Frequency {r} GHz\")\n",
    "print(f\"Expected Rabi Oscillation Period {1/r} ns\")\n",
    "\n",
    "#first intersection of the curves at resonance (wa=wc)\n",
    "if wa == wc:\n",
    "    t_max = np.pi/(r)\n",
    "    print(f\"The first intersection when wa=wc is at {t_max} ns\")\n",
    "            "
   ]
  },
  {
   "cell_type": "code",
   "execution_count": 95,
   "id": "15b7e477",
   "metadata": {},
   "outputs": [
    {
     "name": "stdout",
     "output_type": "stream",
     "text": [
      "Carrier frequency: 0.8 GHz, Modulating Frequency: 11.8 GHz\n"
     ]
    }
   ],
   "source": [
    "# for beats to be accurate, the frequencis must <= 1 kHz\n",
    "# only use when there is detuning\n",
    "\n",
    "# Calculate Carrier and Modulating Frequencies (If the wa-wc is the right size; there is an imaginary component)\n",
    "fc = abs(wa/(2*np.pi)-wc/(2*np.pi))/(GHz)\n",
    "fm = abs(wa/(2*np.pi)+wc/(2*np.pi))/(GHz)\n",
    "\n",
    "print(f\"Carrier frequency: {fc} GHz, Modulating Frequency: {fm} GHz\")\n"
   ]
  },
  {
   "cell_type": "code",
   "execution_count": 96,
   "id": "857c3d5b",
   "metadata": {},
   "outputs": [],
   "source": [
    "#\n",
    "# Operators, Hamiltonion\n",
    "#\n",
    "\n",
    "# annhiliation and spin operator\n",
    "a  = tensor(destroy(N), qeye(2))  # this stuff is default fock basis\n",
    "sm = tensor(qeye(N), destroy(2))\n",
    "\n",
    "\n",
    "#number of photons in cavity, and in qubit (operators)\n",
    "nc = a.dag() * a\n",
    "na = sm.dag() * sm \n",
    "\n",
    "#Hamiltonian: Jaynes-Cumming\n",
    "if use_rwa:\n",
    "    H = wc * nc + wa * na + g * (a.dag() * sm + a * sm.dag())\n",
    "else:\n",
    "    H = wc * nc + wa * na + g * (a.dag() + a) * (sm + sm.dag())\n",
    "    "
   ]
  },
  {
   "cell_type": "code",
   "execution_count": 97,
   "id": "af6b3e81",
   "metadata": {
    "scrolled": true
   },
   "outputs": [],
   "source": [
    "#\n",
    "# Trying something with time evolution\n",
    "#\n",
    "\n",
    "# put qubit in excited state to start \n",
    "psi0 = tensor(basis(N,0), basis(2,1))\n",
    "\n",
    "# create dissapation operators list (not sure why the list is needed)\n",
    "collapse_ops = []\n",
    "\n",
    "# assume cavity at 0K, cavity relaxation\n",
    "rate = kappa\n",
    "if rate > 0:\n",
    "    collapse_ops.append(sqrt(rate)*a)\n",
    "\n",
    "rate = kappa * n_th_a\n",
    "if rate > 0:\n",
    "    collapse_ops.append(sqrt(rate)*a.dag())\n",
    "    \n",
    "# qubit relaxation\n",
    "rate = gamma\n",
    "if rate > 0:\n",
    "    collapse_ops.append(sqrt(rate) * sm)\n",
    "\n",
    "# make the system evolve\n",
    "output = mesolve(H, psi0, tlist, collapse_ops, [nc, na])"
   ]
  },
  {
   "cell_type": "code",
   "execution_count": 98,
   "id": "cd3406b6",
   "metadata": {},
   "outputs": [],
   "source": [
    "def time_for_val(times, output, outputs):\n",
    "    \"\"\"\n",
    "    returns: the time at which a desired output occurs\n",
    "    params: times - list of x values\n",
    "        output - the output of interest to match x value to\n",
    "        outputs - the total list of outputs\n",
    "    \"\"\"\n",
    "    val_range = 0.01 # the range to consider values within to get result\n",
    "    # first find the desired output in the outputs list\n",
    "    out_idxL = np.where(abs(outputs-output) <= val_range)\n",
    "    timesL = times[out_idxL]\n",
    "    \n",
    "    #trim so that it only includes time values that are notably different\n",
    "    timesL = np.array(timesL)\n",
    "    timesL = np.around(timesL, 9) # since we are in the GHz range we want the same order of accuracy\n",
    "    timesL = np.unique(timesL)\n",
    "    return timesL"
   ]
  },
  {
   "cell_type": "code",
   "execution_count": 111,
   "id": "d38f3a77",
   "metadata": {},
   "outputs": [
    {
     "name": "stdout",
     "output_type": "stream",
     "text": [
      "133.32\n"
     ]
    }
   ],
   "source": [
    "def freq_guesser(data):\n",
    "    if np.size(data) == 0:\n",
    "        return 0\n",
    "    else:\n",
    "        peak_ind = find_peaks(data)[0]\n",
    "        T = tlist[peak_ind[1]] - tlist[peak_ind[0]]\n",
    "        freq=1/T\n",
    "        return freq\n",
    "n_a = output.expect[1]\n",
    "freq = freq_guesser(n_a)\n",
    "print(freq/GHz)"
   ]
  },
  {
   "cell_type": "code",
   "execution_count": 99,
   "id": "aeefd9b5",
   "metadata": {},
   "outputs": [
    {
     "name": "stdout",
     "output_type": "stream",
     "text": [
      "(0.0008684009735607234, 100000000, 0, 0.9991315990264393, 0)\n",
      "[-3.89145273e-05  1.19100425e+08  1.53812439e-01  9.99126053e-01]\n",
      "Rabi Frequency from fitting: 0.23820085001521707GHz\n"
     ]
    },
    {
     "data": {
      "text/plain": [
       "Text(0.5, 1.0, 'Vacuum Rabi oscillations')"
      ]
     },
     "execution_count": 99,
     "metadata": {},
     "output_type": "execute_result"
    },
    {
     "data": {
      "image/png": "[encoded data removed]",
      "text/plain": [
       "<Figure size 720x432 with 1 Axes>"
      ]
     },
     "metadata": {
      "needs_background": "light"
     },
     "output_type": "display_data"
    }
   ],
   "source": [
    "#\n",
    "# Graph the time evolution\n",
    "#\n",
    "\n",
    "n_c = output.expect[0] # expectation value for the number of photons in the cavity \n",
    "n_a = output.expect[1] # expectation value for the number of photons in the qubit\n",
    "\n",
    "\n",
    "# initial fitting guesses - for rabi frequency guessing \n",
    "def init_guesser(dataset, tlist):\n",
    "    amp1 = (max(dataset) - min(dataset))/2\n",
    "    freq1 = r#1/((time_for_val(tlist,0,dataset)[1] - time_for_val(tlist,0,dataset)[0])) #Hz\n",
    "    shift1 = amp1 + min(dataset) \n",
    "    phase1 = 0#time_for_val(tlist,shift1,dataset)[0]\n",
    "    l_max = argrelextrema(dataset, np.greater)[0] # get np.array in a tuple of the local maxima of the qubit\n",
    "    #Tq1 = -tlist[l_max[0]]/np.log(dataset[l_max[0]])\n",
    "\n",
    "    if kappa==0 and gamma ==0:\n",
    "        damp1 = 0\n",
    "    else:\n",
    "        damp1 = -(np.log(dataset[l_max[0]]))/(tlist[l_max[0]])\n",
    "    return amp1, 10**8, phase1, shift1, damp1\n",
    "\n",
    "\n",
    "# The fit function\n",
    "# Only use if you expect sinusoidal behavior\n",
    "\n",
    "init_guess = init_guesser(n_a,tlist)\n",
    "print(init_guess)\n",
    "def get_fit(init_guess):\n",
    "    if kappa==0 and gamma==0:\n",
    "        def test(x, a, b,c, d):\n",
    "            return a*(np.sin(b*x + c))**2 + d\n",
    "\n",
    "        param, param_cov = curve_fit(test, tlist, n_a, maxfev=500000, p0=init_guess[:4])\n",
    "        fit_func = param[0]*((np.sin(param[1]*tlist + param[2]))**2) + param[3]\n",
    "    else:\n",
    "        def test(x, a, b,c, d,e):\n",
    "            return a*np.exp(-e*x)*(np.sin(b*x + c))**2 + d\n",
    "\n",
    "        param, param_cov = curve_fit(test, tlist, n_a, maxfev=500000, p0=init_guess)\n",
    "        fit_func = param[0]*np.exp(-param[4]*tlist)*((np.sin(param[1]*tlist + param[2]))**2) + param[3]\n",
    "    return param, fit_func\n",
    "\n",
    "param, fit_func = get_fit(init_guess)\n",
    "print(param)\n",
    "print(f\"Rabi Frequency from fitting: {abs(2*param[1])/GHz}GHz\")\n",
    "\n",
    "fig, axes = plt.subplots(1, 1, figsize=(10,6))\n",
    "axes.plot(tlist, n_c, label=\"Cavity\")\n",
    "axes.plot(tlist, n_a, label=\"Qubit excited state\")\n",
    "axes.plot(tlist, fit_func, label=\"Qubit func. fit\")\n",
    "axes.legend(loc=0)\n",
    "axes.set_xlabel('Time')\n",
    "axes.set_ylabel('Occupation probability')\n",
    "axes.set_title('Vacuum Rabi oscillations')\n",
    "\n"
   ]
  },
  {
   "cell_type": "code",
   "execution_count": null,
   "id": "04feb3c4",
   "metadata": {},
   "outputs": [],
   "source": [
    "#\n",
    "# Cavity Wigner Function fun\n",
    "#\n",
    "\n",
    "# put qubit in excited state to start \n",
    "#psi0 = tensor(basis(N,0), basis(2,1))\n",
    "\n",
    "output = mesolve(H, psi0, tlist, collapse_ops, [])\n",
    "\n",
    "expect_nc_L = np.array([expect(nc, output.states[t]) for t in range(101)]) # get the expectation of the number of cavity photons"
   ]
  },
  {
   "cell_type": "code",
   "execution_count": null,
   "id": "2ae04597",
   "metadata": {},
   "outputs": [],
   "source": [
    "output_gs_times = np.where(expect_nc_L <= 0.01)[0]\n",
    "print(output_gs_times)\n",
    "tlist[output_gs_times]"
   ]
  },
  {
   "cell_type": "code",
   "execution_count": null,
   "id": "b86cbc79",
   "metadata": {},
   "outputs": [],
   "source": [
    "# get density matrix list\n",
    "dmL = np.array(output.states)[output_gs_times]\n"
   ]
  },
  {
   "cell_type": "code",
   "execution_count": null,
   "id": "1fb6f4d9",
   "metadata": {},
   "outputs": [],
   "source": [
    "xvec = np.linspace(-3,3,200)\n",
    "fig, axes = plt.subplots(1,len(dmL), sharex=True, figsize=(3*len(dmL) + 5,3))\n",
    "cm = plt.get_cmap('RdBu')\n",
    "sm = plt.cm.ScalarMappable(cmap=cm, norm=mpl.colors.Normalize(-.25,.25))\n",
    "plt.colorbar(sm)\n",
    "\n",
    "tlist = np.around(tlist, 10)\n",
    "for idx, dm in enumerate(dmL):\n",
    "    # get reduced dm for cavity\n",
    "    dm_cavity = ptrace(Qobj(dm), 0)\n",
    "    \n",
    "    # calculate its wigner function\n",
    "    W = wigner(dm_cavity, xvec, xvec) # yes this is position and momentum - wigner_transform is more specific\n",
    "    \n",
    "    # plot its wigner function\n",
    "    axes[idx].contourf(xvec, xvec, W, 100, norm=mpl.colors.Normalize(-.25,.25), cmap=cm)\n",
    "    axes[idx].set_xlabel(\"Position\") # I think this is right ... not sure, here are the sources\n",
    "    axes[idx].set_ylabel(\"Momentum\")\n",
    "    axes[idx].set_title(f\"t = {tlist[output_gs_times][idx]*GHz}\")\n",
    "\n",
    "    \n",
    "    # https://en.wikipedia.org/wiki/Optical_phase_space\n",
    "    # http://mediatum.ub.tum.de/doc/1463517/1463517.pdf\n",
    "    # https://uncw.edu/phy/documents/shafer499talk.pdf\n",
    "    # https://dergipark.org.tr/en/download/article-file/130801"
   ]
  },
  {
   "cell_type": "code",
   "execution_count": null,
   "id": "7b02b259",
   "metadata": {},
   "outputs": [],
   "source": [
    "#\n",
    "# Animation of Wigner Fn\n",
    "# \n",
    "plt.rcParams[\"figure.figsize\"] = [12,6]\n",
    "plt.rcParams[\"figure.autolayout\"] = True\n",
    "\n",
    "fps = 20\n",
    "frn = 75\n",
    "\n",
    "xvec = np.linspace(-5.,5.,100)\n",
    "x,y = np.meshgrid(xvec, xvec)\n",
    "\n",
    "dm_cavity = ptrace(Qobj(output.states[0]), 0) #states[n] initially\n",
    "W = wigner(dm_cavity, xvec, xvec)    \n",
    "\n",
    "def update_plot(frame_number):\n",
    "    plot[0].remove()\n",
    "    dm_cavity = ptrace(output.states[frame_number], 0)\n",
    "    W = wigner(dm_cavity, xvec, xvec)\n",
    "    plot[0] = ax.plot_surface(x,y,W, cmap = plt.get_cmap('RdBu'))\n",
    "    return plot\n",
    "    \n",
    "fig = plt.figure()\n",
    "ax = fig.add_subplot(111,projection='3d')\n",
    "plot = [ax.plot_surface(x, y, W, color='0.75',rstride=1, cstride=1)]\n",
    "\n",
    "\n",
    "ax.set_xlim3d(-5, 5)\n",
    "ax.set_ylim3d(-5, 5)\n",
    "ax.set_zlim3d(-0.25, 0.25)\n",
    "\n",
    "anim = animation.FuncAnimation(fig, update_plot, frn, interval=1000/fps, blit = False)\n",
    "#plt.show()\n",
    "HTML(anim.to_html5_video())\n",
    "\n",
    "\n"
   ]
  },
  {
   "cell_type": "markdown",
   "id": "edcc1b4a",
   "metadata": {},
   "source": [
    "Visual of Detuning"
   ]
  },
  {
   "cell_type": "code",
   "execution_count": 103,
   "id": "6c600f0e",
   "metadata": {},
   "outputs": [
    {
     "data": {
      "image/png": "[encoded data removed]",
      "text/plain": [
       "<Figure size 864x288 with 1 Axes>"
      ]
     },
     "metadata": {
      "needs_background": "light"
     },
     "output_type": "display_data"
    }
   ],
   "source": [
    "#\n",
    "# Get correlation function of resonator\n",
    "#\n",
    "\n",
    "psi0 = tensor(coherent(N, sqrt(4)), (basis(2,0)+basis(2,1)).unit())\n",
    "tlist = np.linspace(0, 25/GHz, 10000)\n",
    "corr_vec = correlation_2op_2t(H, psi0, None, tlist, [], a.dag(), a, args={},options = Options(nsteps=10000))\n",
    "fig, ax = plt.subplots(1, 1, sharex=True, figsize=(12,4))\n",
    "\n",
    "ax.plot(tlist, np.real(corr_vec), 'r', linewidth=2, label=\"resonator\")\n",
    "ax.set_ylabel(\"correlation\", fontsize=16)\n",
    "ax.set_xlabel(\"Time (ns)\", fontsize=16)\n",
    "ax.legend()\n",
    "ax.set_xlim(0,50)\n",
    "fig.tight_layout()"
   ]
  },
  {
   "cell_type": "code",
   "execution_count": 101,
   "id": "517d5b52",
   "metadata": {},
   "outputs": [],
   "source": [
    "w, S = spectrum_correlation_fft(tlist, corr_vec)"
   ]
  },
  {
   "cell_type": "code",
   "execution_count": 102,
   "id": "f308803b",
   "metadata": {},
   "outputs": [
    {
     "data": {
      "image/png": "[encoded data removed]",
      "text/plain": [
       "<Figure size 648x216 with 1 Axes>"
      ]
     },
     "metadata": {
      "needs_background": "light"
     },
     "output_type": "display_data"
    }
   ],
   "source": [
    "fig, ax = plt.subplots(figsize=(9,3))\n",
    "ax.plot(w / (2 * np.pi), abs(S))\n",
    "ax.set_xlabel(r'$\\omega$', fontsize=18)\n",
    "ax.set_xlim(wc/(2*np.pi)-.5, wc/(2*np.pi)+.5);"
   ]
  },
  {
   "cell_type": "code",
   "execution_count": 77,
   "id": "93a68e2d",
   "metadata": {},
   "outputs": [
    {
     "data": {
      "text/plain": [
       "Text(0.5, 1.0, 'Detuning Sweep')"
      ]
     },
     "execution_count": 77,
     "metadata": {},
     "output_type": "execute_result"
    },
    {
     "data": {
      "image/png": "[encoded data removed]",
      "text/plain": [
       "<Figure size 720x432 with 1 Axes>"
      ]
     },
     "metadata": {
      "needs_background": "light"
     },
     "output_type": "display_data"
    }
   ],
   "source": [
    "# make lists to store the theory and simulation frequencies\n",
    "theoryL = []\n",
    "simL = []\n",
    "deltaL = np.linspace(0, 1, 10000) # detuning to iterate over\n",
    "\n",
    "for delta in deltaL:\n",
    "    # solve for rabi freqency (theory), add to list\n",
    "    rabi_theory = sqrt(4*((g/GHz)**2)*(n + 1) + (delta)**2)\n",
    "    theoryL += [rabi_theory]\n",
    "    # set wa as a function of detuning\n",
    "    wc = 5.5 * GHz * 2 * np.pi\n",
    "    wa = wc + delta*GHz*2*np.pi\n",
    "    H = wc * nc + wa * na + g * (a.dag() * sm + a * sm.dag())\n",
    "    psi0 = tensor(basis(N,0), basis(2,1))\n",
    "    # plug this into Hamiltonian/ evolve it over times in tlist\n",
    "    result = mesolve(H, psi0, tlist, collapse_ops, [nc, na])\n",
    "    n_a = result.expect[1]\n",
    "    # fit to the output for the qubit (helper)\n",
    "    init_guess = init_guesser(n_a,tlist)\n",
    "    param, fit_func = get_fit(init_guess)\n",
    "    # pull rabi frequency from the fit, add to list\n",
    "    rabi_sim = abs(2*param[1])/GHz\n",
    "    simL += [rabi_sim]\n",
    "\n",
    "# graph the theory fit and the actual fit\n",
    "fig, axes = plt.subplots(1, 1, figsize=(10,6))\n",
    "axes.plot(deltaL, theoryL, label=\"Theoretical Rabi Freq.\")\n",
    "axes.plot(deltaL, simL, label=\"Simulation Rabi Freq.\")\n",
    "axes.legend(loc=0)\n",
    "axes.set_xlabel('Detuning (GHz)')\n",
    "axes.set_ylabel('Rabi Frequency (ns)')\n",
    "axes.set_title('Detuning Sweep')"
   ]
  },
  {
   "cell_type": "code",
   "execution_count": null,
   "id": "a7ce8c88",
   "metadata": {},
   "outputs": [],
   "source": []
  }
 ],
 "metadata": {
  "interpreter": {
   "hash": "504423c854edee9b55a068c08138d13b967d98b2a1f5c2fd3b62a9a1fef0d338"
  },
  "kernelspec": {
   "display_name": "Python 3 (ipykernel)",
   "language": "python",
   "name": "python3"
  },
  "language_info": {
   "codemirror_mode": {
    "name": "ipython",
    "version": 3
   },
   "file_extension": ".py",
   "mimetype": "text/x-python",
   "name": "python",
   "nbconvert_exporter": "python",
   "pygments_lexer": "ipython3",
   "version": "3.10.4"
  }
 },
 "nbformat": 4,
 "nbformat_minor": 5
}
