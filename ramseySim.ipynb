{
 "cells": [
  {
   "cell_type": "code",
   "execution_count": 1,
   "id": "f6914b3b",
   "metadata": {},
   "outputs": [],
   "source": [
    "%matplotlib inline\n",
    "import matplotlib.pyplot as plt\n",
    "import matplotlib as mpl\n",
    "import numpy as np\n",
    "import scipy\n",
    "from IPython.display import Image\n",
    "from qutip import *\n",
    "from math import sqrt\n",
    "\n",
    "\n",
    "from qutip.qip.device import Processor\n",
    "from qutip_qip.device import DispersiveCavityQED\n",
    "from qutip.qip.pulse import Pulse\n",
    "from qutip.operators import sigmaz, sigmay, sigmax, destroy\n",
    "from qutip.states import basis\n",
    "from qutip.metrics import fidelity\n",
    "from qutip.qip.operations import rx, ry, rz, hadamard_transform, cphase\n",
    "from qutip_qip.circuit import QubitCircuit, Gate\n",
    "# from qutip.qip.operations import cnot, snot"
   ]
  },
  {
   "cell_type": "markdown",
   "id": "a1854d4b",
   "metadata": {},
   "source": [
    "The ramsey simulation builds on source code to do a ramsey measurement of $T_2$ for a qubit. The changes to the source code are in the model used: all examples use the LinearSpinChain model, processor, and compiler. Our code uses the DispersiveCavityQED processor, which uses the Tavis-Cummings Hamiltonian as a model. The relevant source code is at the following links:\n",
    "- https://qutip.org/docs/latest/guide/qip/qip-processor.html \n",
    "- https://arxiv.org/pdf/2105.09902.pdf\n",
    "\n",
    "### Setting the System Constants + Operators\n",
    "All are in units of GHz. No experimental baseline was used to set the constants, however, this can be easily done."
   ]
  },
  {
   "cell_type": "code",
   "execution_count": 4,
   "id": "ee7f95f5",
   "metadata": {},
   "outputs": [],
   "source": [
    "# qubit resonance frequency\n",
    "wq = 3.04 * 2 * np.pi\n",
    "# cavity resonance frequency\n",
    "wc = 3.00 * 2 * np.pi\n",
    "# coupling\n",
    "g = 0.08 * 2 * np.pi\n",
    "# frequency of pulses\n",
    "f = 0.5\n",
    "# amplitude of pulses\n",
    "amp = 0.1\n",
    "# number of levels in cavity\n",
    "num_c_levels = 20\n",
    "# number of qubits coupled to cavity\n",
    "num_qubits = 1\n",
    "# define the dephasing rate to feed into the model\n",
    "T2 = 10/f"
   ]
  },
  {
   "cell_type": "markdown",
   "id": "380c4e3a",
   "metadata": {},
   "source": [
    "### Defining the Processor and Drift\n",
    "In order to create the pulse level simulation, we define the model, processor, and compiler. DispersiveCavityQED is all of those at once: we call it the processor because the processor uses the CavityQEDModel and the CavityQEDCompiler. The drift term and extra control in the Hamiltonian are z-spin drift and x-spin including the z-drift factor."
   ]
  },
  {
   "cell_type": "code",
   "execution_count": 5,
   "id": "87e6e62f",
   "metadata": {},
   "outputs": [
    {
     "name": "stderr",
     "output_type": "stream",
     "text": [
      "/opt/anaconda3/envs/qutip-env/lib/python3.10/site-packages/qutip_qip/device/cavityqed.py:334: UserWarning: Not in the dispersive regime\n",
      "  warnings.warn(\"Not in the dispersive regime\")\n",
      "/opt/anaconda3/envs/qutip-env/lib/python3.10/site-packages/qutip_qip/device/cavityqed.py:337: UserWarning: The rotating-wave approximation might not be valid.\n",
      "  warnings.warn(\n"
     ]
    }
   ],
   "source": [
    "# define the processor, model, and compiler with x-pulse control\n",
    "processor = DispersiveCavityQED(num_qubits=num_qubits, num_levels = num_c_levels, sx=amp/2, w0=wc, g=g, t2=T2)\n",
    "# define the z-drift term\n",
    "ham_idle= 2*np.pi * tensor(qeye(num_c_levels),sigmaz())/2 * f\n",
    "# define the x-z combined control\n",
    "resonant_sx = 2*np.pi * tensor(qeye(num_c_levels),sigmax())- ham_idle / (amp/2)\n",
    "\n",
    "# add to the model. Targets are the qubit and cavity\n",
    "processor.add_drift(ham_idle, targets = [0,1])\n",
    "processor.add_control(resonant_sx , targets = [0,1] , label =\"sx0\")\n"
   ]
  },
  {
   "cell_type": "markdown",
   "id": "09866e02",
   "metadata": {},
   "source": [
    "### Create a Circuit and Experiment\n",
    "We create the circuit to run pulese into and add it to the processor. We do this over time t. The RX gate applies a pulse of specified bloch sphere rotation value, and IDLE makes the qubit \"wait\" for time t until the next pulse. We can then measure the final state. "
   ]
  },
  {
   "cell_type": "code",
   "execution_count": 7,
   "id": "9fcec55e",
   "metadata": {},
   "outputs": [],
   "source": [
    "def ramsey(t,proc):\n",
    "    qc = QubitCircuit(1)\n",
    "    qc.add_gate(\"RX\", targets=[0], arg_value =np.pi/2) # move the bloch vector to equator\n",
    "    qc.add_gate(\"IDLE\", targets=[0], arg_value = t )\n",
    "    qc.add_gate(\"RX\", targets=[0], arg_value =np.pi/2)\n",
    "    \n",
    "    # add the circuit to the processor so it can run pulses\n",
    "    proc.load_circuit(qc)\n",
    "    # specify the operators to measure when getting expectation values\n",
    "    e_ops = [tensor(qeye(num_c_levels), sigmaz())]\n",
    "    # run the processor\n",
    "    result = processor.run_state(init_state=tensor(basis(num_c_levels,0), basis(2,0)), e_ops=e_ops, options=Options(nsteps=10000))\n",
    "    return result.expect[0][-1]"
   ]
  },
  {
   "cell_type": "markdown",
   "id": "01f64ce4",
   "metadata": {},
   "source": [
    "### Run the Experiment\n",
    "Run the ramsey function for the specified times and get the peaks of the oscillations to fit a decay curve to"
   ]
  },
  {
   "cell_type": "code",
   "execution_count": 9,
   "id": "7c947744",
   "metadata": {},
   "outputs": [],
   "source": [
    "num_samples=500\n",
    "idle_tlist = np.linspace(0., 50., num_samples)\n",
    "measurements = np.asarray([ramsey(t, processor) for t in idle_tlist])\n",
    "\n",
    "rx_gate_time = 1/4/amp/np.pi/2\n",
    "total_time = 2*rx_gate_time + idle_tlist[-1]\n",
    "tlist = np.linspace(0., total_time, num_samples)\n",
    "\n",
    "peak_ind = scipy.signal.find_peaks(measurements)[0]\n",
    "peak_signal = measurements[peak_ind]\n",
    "peak_times = idle_tlist[peak_ind]"
   ]
  },
  {
   "cell_type": "markdown",
   "id": "ca092d46",
   "metadata": {},
   "source": [
    "### Graph the Result and Fit the Decay Fn\n",
    "The result of the fitting to the osc"
   ]
  },
  {
   "cell_type": "code",
   "execution_count": null,
   "id": "da24ccee",
   "metadata": {},
   "outputs": [],
   "source": [
    "decay_func = lambda t, t2, f0, w0: f0 * np.exp(-t/t2) + w0\n",
    "(t2_fit,f0_fit, w0_fit),_= scipy.optimize.curve_fit(decay_func, peak_times[1:], peak_signal[1:], maxfev=500000)\n",
    "print(\"T2:\", T2)\n",
    "print(\"Fitted T2:\", t2_fit)\n",
    "\n",
    "fig, ax = plt.subplots(figsize = (5, 3), dpi=100)\n",
    "ax.plot(idle_tlist[:], measurements[:], '-', label=\"Simulation\", color=\"slategray\")\n",
    "ax.plot(idle_tlist, decay_func(idle_tlist, t2_fit,f0_fit, w0_fit), '--', label=\"Theory\", color=\"slategray\")\n",
    "ax.scatter(peak_times, peak_signal, color=\"r\")\n",
    "ax.set_xlabel(f\"Idling time t, ns \\n T2={T2}, fitted T2={round(t2_fit, 3)}\")\n",
    "ax.set_ylabel(\"Ramsey signal\", labelpad=2)\n",
    "ax.set_ylim((ax.get_ylim()[0], ax.get_ylim()[1]))\n",
    "ax.set_position([0.18, 0.2, 0.75, 0.75])\n",
    "ax.grid()\n",
    "fig\n"
   ]
  }
 ],
 "metadata": {
  "kernelspec": {
   "display_name": "Python 3 (ipykernel)",
   "language": "python",
   "name": "python3"
  },
  "language_info": {
   "codemirror_mode": {
    "name": "ipython",
    "version": 3
   },
   "file_extension": ".py",
   "mimetype": "text/x-python",
   "name": "python",
   "nbconvert_exporter": "python",
   "pygments_lexer": "ipython3",
   "version": "3.10.4"
  }
 },
 "nbformat": 4,
 "nbformat_minor": 5
}
