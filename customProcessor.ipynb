{
 "cells": [
  {
   "cell_type": "code",
   "execution_count": 8,
   "id": "fad45993",
   "metadata": {},
   "outputs": [],
   "source": [
    "# https://nbviewer.ipython.org/github/qutip/qutip-notebooks/blob/master/examples/qip-randomized-benchmarking.ipynb\n",
    "# https://nbviewer.ipython.org/github/qutip/qutip-notebooks/blob/master/examples/qip-customize-device.ipynb\n",
    "import matplotlib.pyplot as plt\n",
    "from scipy.optimize import curve_fit\n",
    "\n",
    "import numpy as np\n",
    "from qutip import sigmax, sigmay, sigmaz, basis, qeye, tensor, Qobj, fock_dm\n",
    "from qutip_qip.circuit import QubitCircuit, Gate\n",
    "from qutip_qip.device import ModelProcessor, Model, CavityQEDModel\n",
    "from qutip_qip.compiler import GateCompiler, Instruction, CavityQEDCompiler\n",
    "from qutip import Options\n",
    "from qutip_qip.noise import Noise"
   ]
  },
  {
   "cell_type": "code",
   "execution_count": 30,
   "id": "86308a39",
   "metadata": {},
   "outputs": [
    {
     "data": {
      "text/plain": [
       "[{'sx0': '$\\\\sigma_x^0$', 'sx1': '$\\\\sigma_x^1$'},\n",
       " {'sz0': '$\\\\sigma_z^0$', 'sz1': '$\\\\sigma_z^1$'},\n",
       " {'g0': '$g^0$', 'g1': '$g^1$'}]"
      ]
     },
     "execution_count": 30,
     "metadata": {},
     "output_type": "execute_result"
    }
   ],
   "source": [
    "num_qubits = 2\n",
    "num_c_levels = 10\n",
    "delta_init = 0 # coupling between qubit states\n",
    "g1,g2 = 1.0, 1.0\n",
    "wc = 0.01 # resonator frequency\n",
    "g = [g1,g2] # coupling strength between qubit + resonator\n",
    "epsmax = [1,0.02]\n",
    "deltamax = [0, 2.852]\n",
    "model = CavityQEDModel(2,10, delta = delta_init, g=g, w0=wc, deltamax = deltamax, epsmax = epsmax)\n"
   ]
  },
  {
   "cell_type": "code",
   "execution_count": 17,
   "id": "5ea32d2b",
   "metadata": {},
   "outputs": [],
   "source": [
    "class MyCompiler(GateCompiler):\n",
    "    \"\"\"Custom compiler for generating pulses from gates using the base class \n",
    "    GateCompiler.\n",
    "\n",
    "    Args:\n",
    "        num_qubits (int): The number of qubits in the processor\n",
    "        params (dict): A dictionary of parameters for gate pulses such as\n",
    "                       the pulse amplitude.\n",
    "    \"\"\"\n",
    "\n",
    "    def __init__(self, num_qubits, params):\n",
    "        super().__init__(num_qubits, params=params)\n",
    "        self.params = params\n",
    "        self.gate_compiler = {\n",
    "            \"ROT\": self.rotation_with_phase_compiler,\n",
    "            \"RX\": self.single_qubit_gate_compiler,\n",
    "#             \"RY\": self.single_qubit_gate_compiler,\n",
    "        }\n",
    "\n",
    "    def generate_pulse(self, gate, tlist, coeff, phase=0.0):\n",
    "        \"\"\"Generates the pulses.\n",
    "\n",
    "        Args:\n",
    "            gate (qutip_qip.circuit.Gate): A qutip Gate object.\n",
    "            tlist (array): A list of times for the evolution.\n",
    "            coeff (array): An array of coefficients for the gate pulses\n",
    "            phase (float): The value of the phase for the gate.\n",
    "\n",
    "        Returns:\n",
    "            Instruction (qutip_qip.compiler.instruction.Instruction): An instruction\n",
    "            to implement a gate containing the control pulses.                                               \n",
    "        \"\"\"\n",
    "        pulse_info = [\n",
    "            # (control label, coeff)\n",
    "            (\"sx\" + str(gate.targets[0]), np.cos(phase) * coeff),\n",
    "#             (\"sy\" + str(gate.targets[0]), np.sin(phase) * coeff),\n",
    "        ]\n",
    "        return [Instruction(gate, tlist=tlist, pulse_info=pulse_info)]\n",
    "\n",
    "    def single_qubit_gate_compiler(self, gate, args):\n",
    "        \"\"\"Compiles single-qubit gates to pulses.\n",
    "        \n",
    "        Args:\n",
    "            gate (qutip_qip.circuit.Gate): A qutip Gate object.\n",
    "        \n",
    "        Returns:\n",
    "            Instruction (qutip_qip.compiler.instruction.Instruction): An instruction\n",
    "            to implement a gate containing the control pulses.\n",
    "        \"\"\"\n",
    "        # gate.arg_value is the rotation angle\n",
    "        tlist = np.abs(gate.arg_value) / self.params[\"pulse_amplitude\"]\n",
    "        coeff = self.params[\"pulse_amplitude\"] * np.sign(gate.arg_value)\n",
    "        if gate.name == \"RX\":\n",
    "            return self.generate_pulse(gate, tlist, coeff, phase=0.0)\n",
    "#         elif gate.name == \"RY\":\n",
    "#             return self.generate_pulse(gate, tlist, coeff, phase=np.pi / 2)\n",
    "\n",
    "    def rotation_with_phase_compiler(self, gate, args):\n",
    "        \"\"\"Compiles gates with a phase term.\n",
    "\n",
    "        Args:\n",
    "            gate (qutip_qip.circuit.Gate): A qutip Gate object.\n",
    "        \n",
    "        Returns:\n",
    "            Instruction (qutip_qip.compiler.instruction.Instruction): An instruction\n",
    "            to implement a gate containing the control pulses.\n",
    "        \"\"\"\n",
    "        # gate.arg_value is the pulse phase\n",
    "        tlist = self.params[\"duration\"]\n",
    "        coeff = self.params[\"pulse_amplitude\"]\n",
    "        return self.generate_pulse(gate, tlist, coeff, phase=gate.arg_value)"
   ]
  },
  {
   "cell_type": "code",
   "execution_count": 67,
   "id": "a7cf486c",
   "metadata": {},
   "outputs": [],
   "source": [
    "class ClassicalCrossTalk(Noise):\n",
    "    def __init__(self, ratio):\n",
    "        self.ratio = ratio\n",
    "\n",
    "    def get_noisy_dynamics(self, dims=[10,2,2], pulses=None, systematic_noise=None):\n",
    "        \"\"\"Adds noise to the control pulses.\n",
    "        \n",
    "        Args:\n",
    "            dims: Dimension of the system, e.g., [2,2,2,...] for qubits.\n",
    "            pulses: A list of Pulse objects, representing the compiled pulses.\n",
    "            systematic_noise: A Pulse object with no ideal control, used to represent\n",
    "            pulse-independent noise such as decoherence (not used in this example).\n",
    "        Returns:\n",
    "            pulses: The list of modified pulses according to the noise model.\n",
    "            systematic_noise: A Pulse object (not used in this example). \n",
    "        \"\"\"\n",
    "        for i, pulse in enumerate(pulses):\n",
    "            if \"sx\" not in pulse.label and \"sy\" not in pulse.label:\n",
    "                continue  # filter out other pulses, e.g. drift\n",
    "            target = pulse.targets[0]\n",
    "            if target != 0:  # add pulse to the left neighbour\n",
    "                pulses[i].add_control_noise(\n",
    "                    self.ratio * pulse.qobj,\n",
    "                    targets=[target - 1],\n",
    "                    coeff=pulse.coeff,\n",
    "                    tlist=pulse.tlist,\n",
    "                )\n",
    "            if target != len(dims) - 1:  # add pulse to the right neighbour\n",
    "                pulses[i].add_control_noise(\n",
    "                    self.ratio * pulse.qobj,\n",
    "                    targets=[target + 1],\n",
    "                    coeff=pulse.coeff,\n",
    "                    tlist=pulse.tlist,\n",
    "                )\n",
    "        return pulses, systematic_noise"
   ]
  },
  {
   "cell_type": "code",
   "execution_count": 71,
   "id": "477dffa4",
   "metadata": {},
   "outputs": [],
   "source": [
    "num_gates = 250 # Qubit-0 is the target qubit. Qubit-1 suffers from crosstalk.\n",
    "num_sample = 2\n",
    "fidelity = []\n",
    "fidelity_error = []\n",
    "init_fid = 0.975\n",
    "num_gates_list = [250]\n",
    "\n",
    "def crosstalk_sim(num_gates):\n",
    "    num_qubits = 2\n",
    "    # Add qubit frequency detuning 1.852MHz for the second qubit.\n",
    "    qc = QubitCircuit(num_qubits)\n",
    "    processor = ModelProcessor(model=model)\n",
    "    processor.add_drift(2 * np.pi * (sigmaz() + 1) / 2 * 1.852, targets=1)\n",
    "    # Define a random circuit.\n",
    "    gates_set = [\n",
    "        Gate(\"ROT\", 0, arg_value=0),\n",
    "        Gate(\"ROT\", 0, arg_value=np.pi / 2),\n",
    "        Gate(\"ROT\", 0, arg_value=np.pi),\n",
    "        Gate(\"ROT\", 0, arg_value=np.pi / 2 * 3),\n",
    "    ]\n",
    "\n",
    "    for ind in np.random.randint(0, 4, num_gates):\n",
    "        qc.add_gate(gates_set[ind])\n",
    "\n",
    "    mycompiler = MyCompiler(num_qubits, {\"pulse_amplitude\": 0.02, \"duration\": 25})\n",
    "    processor.load_circuit(qc, compiler=mycompiler)\n",
    "    noise = ClassicalCrossTalk(1.0).get_noisy_dynamics(dims=[10,2,2])\n",
    "    processor.add_noise(noise)\n",
    "\n",
    "    init_state = tensor([qeye(10),Qobj([[init_fid, 0], [0, 0.025]]), Qobj([[init_fid, 0], [0, 0.025]])])\n",
    "    options = Options(nsteps=10000)  # increase the maximal allowed steps\n",
    "    e_ops = [tensor(qeye(num_c_levels), fock_dm(2), qeye(num_qubits))]  # observable, changed dims \n",
    "    result = processor.run_state(init_state, solver=\"mesolve\", options=options, e_ops=e_ops)\n",
    "    result = result.expect[0][-1]  # measured expectation value at the end\n",
    "    return result             "
   ]
  },
  {
   "cell_type": "code",
   "execution_count": 72,
   "id": "545b64f5",
   "metadata": {},
   "outputs": [
    {
     "ename": "TypeError",
     "evalue": "'NoneType' object is not iterable",
     "output_type": "error",
     "traceback": [
      "\u001b[0;31m---------------------------------------------------------------------------\u001b[0m",
      "\u001b[0;31mTypeError\u001b[0m                                 Traceback (most recent call last)",
      "Input \u001b[0;32mIn [72]\u001b[0m, in \u001b[0;36m<cell line: 1>\u001b[0;34m()\u001b[0m\n\u001b[1;32m      1\u001b[0m \u001b[38;5;28;01mfor\u001b[39;00m num_gates \u001b[38;5;129;01min\u001b[39;00m num_gates_list:\n\u001b[1;32m      2\u001b[0m     \u001b[38;5;66;03m# expect = Parallel(n_jobs=8)(delayed(single_crosstalk_simulation)(num_gates) for i in range(num_sample))\u001b[39;00m\n\u001b[0;32m----> 3\u001b[0m     expect \u001b[38;5;241m=\u001b[39m [crosstalk_sim(num_gates) \u001b[38;5;28;01mfor\u001b[39;00m i \u001b[38;5;129;01min\u001b[39;00m \u001b[38;5;28mrange\u001b[39m(num_sample)]\n\u001b[1;32m      4\u001b[0m     fidelity\u001b[38;5;241m.\u001b[39mappend(np\u001b[38;5;241m.\u001b[39mmean(expect))\n\u001b[1;32m      5\u001b[0m     fidelity_error\u001b[38;5;241m.\u001b[39mappend(np\u001b[38;5;241m.\u001b[39mstd(expect)\u001b[38;5;241m/\u001b[39mnp\u001b[38;5;241m.\u001b[39msqrt(num_sample))\n",
      "Input \u001b[0;32mIn [72]\u001b[0m, in \u001b[0;36m<listcomp>\u001b[0;34m(.0)\u001b[0m\n\u001b[1;32m      1\u001b[0m \u001b[38;5;28;01mfor\u001b[39;00m num_gates \u001b[38;5;129;01min\u001b[39;00m num_gates_list:\n\u001b[1;32m      2\u001b[0m     \u001b[38;5;66;03m# expect = Parallel(n_jobs=8)(delayed(single_crosstalk_simulation)(num_gates) for i in range(num_sample))\u001b[39;00m\n\u001b[0;32m----> 3\u001b[0m     expect \u001b[38;5;241m=\u001b[39m [\u001b[43mcrosstalk_sim\u001b[49m\u001b[43m(\u001b[49m\u001b[43mnum_gates\u001b[49m\u001b[43m)\u001b[49m \u001b[38;5;28;01mfor\u001b[39;00m i \u001b[38;5;129;01min\u001b[39;00m \u001b[38;5;28mrange\u001b[39m(num_sample)]\n\u001b[1;32m      4\u001b[0m     fidelity\u001b[38;5;241m.\u001b[39mappend(np\u001b[38;5;241m.\u001b[39mmean(expect))\n\u001b[1;32m      5\u001b[0m     fidelity_error\u001b[38;5;241m.\u001b[39mappend(np\u001b[38;5;241m.\u001b[39mstd(expect)\u001b[38;5;241m/\u001b[39mnp\u001b[38;5;241m.\u001b[39msqrt(num_sample))\n",
      "Input \u001b[0;32mIn [71]\u001b[0m, in \u001b[0;36mcrosstalk_sim\u001b[0;34m(num_gates)\u001b[0m\n\u001b[1;32m     25\u001b[0m mycompiler \u001b[38;5;241m=\u001b[39m MyCompiler(num_qubits, {\u001b[38;5;124m\"\u001b[39m\u001b[38;5;124mpulse_amplitude\u001b[39m\u001b[38;5;124m\"\u001b[39m: \u001b[38;5;241m0.02\u001b[39m, \u001b[38;5;124m\"\u001b[39m\u001b[38;5;124mduration\u001b[39m\u001b[38;5;124m\"\u001b[39m: \u001b[38;5;241m25\u001b[39m})\n\u001b[1;32m     26\u001b[0m processor\u001b[38;5;241m.\u001b[39mload_circuit(qc, compiler\u001b[38;5;241m=\u001b[39mmycompiler)\n\u001b[0;32m---> 27\u001b[0m noise \u001b[38;5;241m=\u001b[39m \u001b[43mClassicalCrossTalk\u001b[49m\u001b[43m(\u001b[49m\u001b[38;5;241;43m1.0\u001b[39;49m\u001b[43m)\u001b[49m\u001b[38;5;241;43m.\u001b[39;49m\u001b[43mget_noisy_dynamics\u001b[49m\u001b[43m(\u001b[49m\u001b[43mdims\u001b[49m\u001b[38;5;241;43m=\u001b[39;49m\u001b[43m[\u001b[49m\u001b[38;5;241;43m10\u001b[39;49m\u001b[43m,\u001b[49m\u001b[38;5;241;43m2\u001b[39;49m\u001b[43m,\u001b[49m\u001b[38;5;241;43m2\u001b[39;49m\u001b[43m]\u001b[49m\u001b[43m)\u001b[49m\n\u001b[1;32m     28\u001b[0m processor\u001b[38;5;241m.\u001b[39madd_noise(noise)\n\u001b[1;32m     30\u001b[0m init_state \u001b[38;5;241m=\u001b[39m tensor([qeye(\u001b[38;5;241m10\u001b[39m),Qobj([[init_fid, \u001b[38;5;241m0\u001b[39m], [\u001b[38;5;241m0\u001b[39m, \u001b[38;5;241m0.025\u001b[39m]]), Qobj([[init_fid, \u001b[38;5;241m0\u001b[39m], [\u001b[38;5;241m0\u001b[39m, \u001b[38;5;241m0.025\u001b[39m]])])\n",
      "Input \u001b[0;32mIn [64]\u001b[0m, in \u001b[0;36mClassicalCrossTalk.get_noisy_dynamics\u001b[0;34m(self, dims, pulses, systematic_noise)\u001b[0m\n\u001b[1;32m      5\u001b[0m \u001b[38;5;28;01mdef\u001b[39;00m \u001b[38;5;21mget_noisy_dynamics\u001b[39m(\u001b[38;5;28mself\u001b[39m, dims\u001b[38;5;241m=\u001b[39m[\u001b[38;5;241m10\u001b[39m,\u001b[38;5;241m2\u001b[39m,\u001b[38;5;241m2\u001b[39m], pulses\u001b[38;5;241m=\u001b[39m\u001b[38;5;28;01mNone\u001b[39;00m, systematic_noise\u001b[38;5;241m=\u001b[39m\u001b[38;5;28;01mNone\u001b[39;00m):\n\u001b[1;32m      6\u001b[0m     \u001b[38;5;124;03m\"\"\"Adds noise to the control pulses.\u001b[39;00m\n\u001b[1;32m      7\u001b[0m \u001b[38;5;124;03m    \u001b[39;00m\n\u001b[1;32m      8\u001b[0m \u001b[38;5;124;03m    Args:\u001b[39;00m\n\u001b[0;32m   (...)\u001b[0m\n\u001b[1;32m     15\u001b[0m \u001b[38;5;124;03m        systematic_noise: A Pulse object (not used in this example). \u001b[39;00m\n\u001b[1;32m     16\u001b[0m \u001b[38;5;124;03m    \"\"\"\u001b[39;00m\n\u001b[0;32m---> 17\u001b[0m     \u001b[38;5;28;01mfor\u001b[39;00m i, pulse \u001b[38;5;129;01min\u001b[39;00m \u001b[38;5;28;43menumerate\u001b[39;49m\u001b[43m(\u001b[49m\u001b[43mpulses\u001b[49m\u001b[43m)\u001b[49m:\n\u001b[1;32m     18\u001b[0m         \u001b[38;5;28;01mif\u001b[39;00m \u001b[38;5;124m\"\u001b[39m\u001b[38;5;124msx\u001b[39m\u001b[38;5;124m\"\u001b[39m \u001b[38;5;129;01mnot\u001b[39;00m \u001b[38;5;129;01min\u001b[39;00m pulse\u001b[38;5;241m.\u001b[39mlabel \u001b[38;5;129;01mand\u001b[39;00m \u001b[38;5;124m\"\u001b[39m\u001b[38;5;124msy\u001b[39m\u001b[38;5;124m\"\u001b[39m \u001b[38;5;129;01mnot\u001b[39;00m \u001b[38;5;129;01min\u001b[39;00m pulse\u001b[38;5;241m.\u001b[39mlabel:\n\u001b[1;32m     19\u001b[0m             \u001b[38;5;28;01mcontinue\u001b[39;00m  \u001b[38;5;66;03m# filter out other pulses, e.g. drift\u001b[39;00m\n",
      "\u001b[0;31mTypeError\u001b[0m: 'NoneType' object is not iterable"
     ]
    }
   ],
   "source": [
    "for num_gates in num_gates_list:\n",
    "    # expect = Parallel(n_jobs=8)(delayed(single_crosstalk_simulation)(num_gates) for i in range(num_sample))\n",
    "    expect = [crosstalk_sim(num_gates) for i in range(num_sample)]\n",
    "    fidelity.append(np.mean(expect))\n",
    "    fidelity_error.append(np.std(expect)/np.sqrt(num_sample))"
   ]
  },
  {
   "cell_type": "code",
   "execution_count": 38,
   "id": "b0d77265",
   "metadata": {},
   "outputs": [
    {
     "name": "stderr",
     "output_type": "stream",
     "text": [
      "/opt/anaconda3/envs/qutip-env/lib/python3.10/site-packages/scipy/optimize/minpack.py:833: OptimizeWarning: Covariance of the parameters could not be estimated\n",
      "  warnings.warn('Covariance of the parameters could not be estimated',\n"
     ]
    },
    {
     "data": {
      "image/png": "[encoded data removed]",
      "text/plain": [
       "<Figure size 500x300 with 1 Axes>"
      ]
     },
     "metadata": {
      "needs_background": "light"
     },
     "output_type": "display_data"
    }
   ],
   "source": [
    "def rb_curve(x, a):\n",
    "    return (1 / 2 + np.exp(-2 * a * x) / 2) * 0.975\n",
    "\n",
    "\n",
    "pos, cov = curve_fit(rb_curve, num_gates_list, fidelity, p0=[0.001])\n",
    "\n",
    "xline = np.linspace(0, 1700, 200)\n",
    "yline = rb_curve(xline, *pos)\n",
    "\n",
    "fig, ax = plt.subplots(figsize=(5, 3), dpi=100)\n",
    "ax.errorbar(\n",
    "    num_gates_list, fidelity, yerr=fidelity_error, fmt=\".\", capsize=2, color=\"slategrey\"\n",
    ")\n",
    "ax.plot(xline, yline, color=\"slategrey\")\n",
    "ax.set_ylabel(\"Average fidelity\")\n",
    "ax.set_xlabel(r\"Number of $\\pi$ rotations\")\n",
    "ax.set_xlim((0, 1700));"
   ]
  },
  {
   "cell_type": "code",
   "execution_count": null,
   "id": "4a53d6cf",
   "metadata": {},
   "outputs": [],
   "source": []
  }
 ],
 "metadata": {
  "kernelspec": {
   "display_name": "Python 3 (ipykernel)",
   "language": "python",
   "name": "python3"
  },
  "language_info": {
   "codemirror_mode": {
    "name": "ipython",
    "version": 3
   },
   "file_extension": ".py",
   "mimetype": "text/x-python",
   "name": "python",
   "nbconvert_exporter": "python",
   "pygments_lexer": "ipython3",
   "version": "3.10.4"
  }
 },
 "nbformat": 4,
 "nbformat_minor": 5
}
