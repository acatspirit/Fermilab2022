{
 "cells": [
  {
   "cell_type": "code",
   "execution_count": 66,
   "id": "76b52a02",
   "metadata": {},
   "outputs": [],
   "source": [
    "%matplotlib inline\n",
    "import matplotlib.pyplot as plt\n",
    "import matplotlib as mpl\n",
    "import numpy as np\n",
    "from IPython.display import Image\n",
    "from qutip import *\n",
    "from math import sqrt\n",
    "from scipy.optimize import curve_fit\n",
    "from scipy.signal import argrelextrema\n",
    "from lmfit import Parameters,minimize, fit_report"
   ]
  },
  {
   "cell_type": "markdown",
   "id": "1a678172",
   "metadata": {},
   "source": [
    "Questions\n",
    "- why do rabi oscillation frequencies differ from theory when coupling isn't the same for both qubits?\n",
    "- why does everything go crazy when the qubits start in different states\n",
    "- what is iswap gate\n",
    "- how to calc fidelty, what is concurrence?"
   ]
  },
  {
   "cell_type": "code",
   "execution_count": 99,
   "id": "2cb6fd99",
   "metadata": {},
   "outputs": [],
   "source": [
    "#\n",
    "# System Constants\n",
    "#\n",
    "\n",
    "# aha! this example notebook couples two cubits to one cavity but it uses a gate? \n",
    "# https://nbviewer.ipython.org/github/jrjohansson/qutip-lectures/blob/master/Lecture-2A-Cavity-Qubit-Gates.ipynb\n",
    "\n",
    "# to try changing wc\n",
    "# https://nbviewer.ipython.org/github/qutip/qutip-notebooks/blob/master/examples/brmesolve.ipynb\n",
    "\n",
    "# constants sources: \n",
    "# https://www.nature.com/articles/nature06184 - the useful article\n",
    "# https://aip.scitation.org/doi/10.1063/1.5089729 - has useful information but for 4 qubits coupled to individual cavities\n",
    "GHz = 10**9 #Hz\n",
    "wq1 = 6.617  * GHz * 2* np.pi # 6.617 * GHz * 2* np.pi # wq = sqrt(8EjEc)\n",
    "wq2 = 6.529 * GHz * 2* np.pi # 2.88 * GHz * 2* np.pi # 6.529 * GHz * 2* np.pi\n",
    "wc = 5.19 * GHz * 2* np.pi # 5.19 * GHz * 2 * np.pi, 3 works\n",
    "g1 = 0.105 * GHz * 2 * np.pi # 0.105 * GHz * 2 * np.pi\n",
    "g2 = 0.105 * GHz * 2 * np.pi # g1\n",
    "N = 20 # number of qubit fock states considered\n",
    "use_rwa = False \n",
    "n_th_a = 0.0\n",
    "n1 = 1 # number photons in qubit 1 \n",
    "n2 = 0 # number photons in qubit 2\n",
    "# times to evolve over\n",
    "tlist = np.linspace(0, 18/GHz,10000)\n",
    "\n",
    "# create drift factor for cavity frequency\n",
    "if (wc-wq1) != 0 and (wc-wq2) != 0:\n",
    "    dwc = g1**2/(wc-wq1)**2 + g2**2/(wc-wq2)**2\n",
    "else:\n",
    "    dwc = 0\n",
    "    \n"
   ]
  },
  {
   "cell_type": "code",
   "execution_count": 100,
   "id": "06137198",
   "metadata": {},
   "outputs": [],
   "source": [
    "#\n",
    "# Operators, Hamiltonion\n",
    "#\n",
    "\n",
    "def wc_dep(t,args):\n",
    "    return wc + t*dwc\n",
    "\n",
    "# cavity operators\n",
    "a = tensor(destroy(N), qeye(2), qeye(2))\n",
    "nc = a.dag()*a\n",
    "\n",
    "# qubit 1 operators\n",
    "sm1 = tensor(qeye(N), destroy(2), qeye(2))\n",
    "sz1 = tensor(qeye(N), sigmaz(), qeye(2))\n",
    "nq1 = sm1.dag() * sm1\n",
    "\n",
    "# qubit 2 operators \n",
    "sm2 = tensor(qeye(N), qeye(2), destroy(2))\n",
    "sz2 = tensor(qeye(N), qeye(2), sigmaz())\n",
    "nq2 = sm2.dag() * sm2\n",
    "\n",
    "# small hamiltionians for each system\n",
    "Hc = nc\n",
    "Hq1 = -0.5 * sz1 * wq1\n",
    "Hq2 = -0.5 * sz2 * wq2\n",
    "if use_rwa:\n",
    "    Hc1 = g1 * (a.dag()*sm1 + a*sm1.dag())\n",
    "    Hc2 = g2 * (a.dag()*sm2 + a*sm2.dag())\n",
    "else:\n",
    "    Hc1 = g1 * (a.dag() + a)*(sm1 + sm1.dag())\n",
    "    Hc2 = g2 * (a.dag() + a)*(sm2 + sm2.dag())\n",
    "# https://journals.aps.org/prapplied/pdf/10.1103/PhysRevApplied.12.054023\n",
    "z = GHz*2*np.pi # not sure how to use equation from paper to calclulate\n",
    "H12 = z*sm1.dag()*sm1*sm2.dag()*sm2\n",
    "\n",
    "#Hamiltonian: Jaynes-Cumming - maybe a different one based on the nature article\n",
    "# H = wc * Hc + wq1 * Hq1 + wq2 * Hq2 + Hc1 + Hc2\n",
    "H = [[Hc, wc_dep], Hq1, Hq2, Hc1, Hc2, H12]"
   ]
  },
  {
   "cell_type": "code",
   "execution_count": 101,
   "id": "1969eb4f",
   "metadata": {},
   "outputs": [
    {
     "name": "stdout",
     "output_type": "stream",
     "text": [
      "qubit 1 rabi frequency 9.346391790807413 GHz, qubit 2 rabi frequency 8.617637750702123 GHz\n"
     ]
    }
   ],
   "source": [
    "#\n",
    "# Calculate expected Rabi Oscillations for System\n",
    "#\n",
    "\n",
    "## https://www.nature.com/articles/s41598-018-35751-3 \n",
    "## https://iopscience.iop.org/article/10.1088/2399-6528/aadafc\n",
    "## https://iopscience.iop.org/article/10.1088/1751-8113/46/33/335301/pdf?casa_token=HrohioirAlUAAAAA:G4ZDAnpHl7a3eapu7MBpEGyPgKGOp56XtJpIBNuwZkZnE3MKvOxEWDjzLNAPCy-k0c3q0ff7NQ\n",
    "## https://www.nature.com/articles/nphys1731\n",
    "## https://www.nature.com/articles/s41598-019-40899-7 had a thing didn't know what delta was\n",
    "## https://www.sciencedirect.com/science/article/pii/S1631070516300585 \n",
    "## https://edoc.ub.uni-muenchen.de/10291/1/Helmer_Ferdinand.pdf end of chapter 1 super helpful, ~pg 47 of doc\n",
    "## https://physics.stackexchange.com/questions/495374/detuning-in-rabi-oscillations \n",
    "## https://www.fulviofrisone.com/attachments/article/404/Fox%20M.%20Quantum%20optics..%20an%20introduction%20(Oxford,%202006)(ISBN%200198566735)(397s)_PQ\n",
    "## https://journals.aps.org/pra/pdf/10.1103/PhysRevA.86.013836?casa_token=cZMwBqBhZAQAAAAA%3ANVA_jTRJxyxNazahy4Y7i1LsM2bUaKpvffWiWc03lZ1Zg5xCNLBOHAr-pmzQ3Fpf17wmHqBxWbUTMw \n",
    "## https://arxiv.org/pdf/1810.00652.pdf, equations used below\n",
    "m = 2 # 2 qubits\n",
    "if g1 == g2: #and (abs(wq1-wc) == abs(wq2-wc)):\n",
    "    r1 = sqrt(m*4*(g1**2)*(n1 + 1) + (wq1-wc)**2)/GHz\n",
    "    r2 = sqrt(m*4*(g2**2)*(n2 + 1) + (wq2-wc)**2)/GHz\n",
    "elif g1 != g2 and (wq1 == wc == wq2):\n",
    "    r1 = 2*sqrt(g1**2 + g2**2)/GHz\n",
    "    r2 = r1\n",
    "else:\n",
    "    print(\"Rabi frequency prediction is inaccurate\")\n",
    "    r1 = 0\n",
    "    r2 = 0\n",
    "print(f\"qubit 1 rabi frequency {r1} GHz, qubit 2 rabi frequency {r2} GHz\")\n"
   ]
  },
  {
   "cell_type": "code",
   "execution_count": 102,
   "id": "321c1db0",
   "metadata": {},
   "outputs": [],
   "source": [
    "## https://journals.aps.org/pra/pdf/10.1103/PhysRevA.105.013719\n",
    "# cavity dissapation rate\n",
    "kappa = 0.0033 * 2 * np.pi * GHz\n",
    "# qubit dissapation rate\n",
    "gamma1 = 0.00261 * GHz * 2* np.pi\n",
    "gamma2 = gamma1\n",
    "\n",
    "\n",
    "# create dissapation operators list\n",
    "collapse_ops = [sqrt(kappa) * a, sqrt(gamma1) * sm1, sqrt(gamma2) * sm2] # add another operator for thermal interference if necessary\n",
    "\n",
    "    \n",
    "    \n",
    "# put qubit in excited state to start \n",
    "psi0 = tensor(basis(N,0), basis(2,n1), basis(2,n2)) # basis matrices are the levels of the first and second qubit respectively, the basis is the cavity\n",
    "    \n",
    "# make the system evolve \n",
    "output = mesolve(H, psi0, tlist, collapse_ops, [nc, nq1, nq2])"
   ]
  },
  {
   "cell_type": "code",
   "execution_count": 103,
   "id": "73506b24",
   "metadata": {},
   "outputs": [],
   "source": [
    "#\n",
    "# helper functions for curve fitting\n",
    "#\n",
    "\n",
    "def fit_guess_detuned(times, a, b,c, d,e,f,g,h):\n",
    "    \"\"\"\n",
    "    returns: sinusoid\n",
    "    params: times - list of x values\n",
    "        a - amplitude of sinusoid\n",
    "        b - frequency of sinusoid\n",
    "        c - phase shift of sinusoid\n",
    "        d - y offset of sinusoid\n",
    "        e - exponential decay rate\n",
    "        f - frequency of cosine\n",
    "        g - phase shift of cosine\n",
    "    \"\"\"\n",
    "    return a*np.exp(-e*times)*(g*(np.sin(b*times + c))**2 + h*(np.cos(b*times + f))**2)+ d\n",
    "\n",
    "def fit_guess(times, a, b,c, d,e):\n",
    "    \"\"\"\n",
    "    returns: sinusoid\n",
    "    params: times - list of x values\n",
    "        a - amplitude of sinusoid\n",
    "        b - frequency of sinusoid\n",
    "        c - phase shift of sinusoid\n",
    "        d - y offset of sinusoid\n",
    "        e - exponential decay rate\n",
    "    \"\"\"\n",
    "    return a*np.exp(-e*times)*((np.sin(b*times + c))**2) + d\n",
    "\n",
    "def time_for_val(times, output, outputs):\n",
    "    \"\"\"\n",
    "    returns: the time at which a desired output occurs\n",
    "    params: times - list of x values\n",
    "        output - the output of interest to match x value to\n",
    "        outputs - the total list of outputs\n",
    "    \"\"\"\n",
    "    val_range = 0.005 # the range to consider values within to get result\n",
    "    # first find the desired output in the outputs list\n",
    "    out_idxL = np.where(abs(outputs-output) <= val_range)\n",
    "    timesL = times[out_idxL]\n",
    "    \n",
    "    #trim so that it only includes time values that are notably different\n",
    "    timesL = np.array(timesL)\n",
    "    timesL = np.around(timesL, 9) # since we are in the GHz range we want the same order of accuracy\n",
    "    timesL = np.unique(timesL)\n",
    "    return timesL"
   ]
  },
  {
   "cell_type": "code",
   "execution_count": 104,
   "id": "2edd0f2b",
   "metadata": {},
   "outputs": [
    {
     "name": "stdout",
     "output_type": "stream",
     "text": [
      "The guess fit for q1 is 0.1424420706690056exp(-18121860.583539244t)sin(2pi333333333.3333333t + 6e-09) + 0.8575579293309944\n",
      "The guess fit for q2 is 0.012205594267146895exp(-207263290220.01364t)sin(2pi333333333.3333333t + 2e-09) + 0.012205594267146895\n"
     ]
    }
   ],
   "source": [
    "n_c = output.expect[0] # cavity occupation probability\n",
    "n_q1 = output.expect[1] # qubit 1 occupation probability\n",
    "n_q2 = output.expect[2] # qubit 2 occupation probability\n",
    "\n",
    "# get guesses for the fit function for each qubit\n",
    "amp1 = (max(n_q1) - min(n_q1))/2\n",
    "amp2 = (max(n_q2) - min(n_q2))/2\n",
    "\n",
    "# freq1 = 1/((time_for_val(tlist,0,n_q1)[1] - time_for_val(tlist,0,n_q1)[0])) #Hz\n",
    "# freq2 = 1/((time_for_val(tlist,0,n_q2)[1] - time_for_val(tlist,0,n_q2)[0])) # Hz\n",
    "\n",
    "shift1 = amp1 + min(n_q1) \n",
    "shift2 = amp2 + min(n_q2)\n",
    "\n",
    "phase1 = time_for_val(tlist,shift1,n_q1)[0]\n",
    "phase2 = time_for_val(tlist,shift2,n_q2)[0]\n",
    "\n",
    "# damping coefficient calculation from noise\n",
    "l_max_1 = argrelextrema(n_q1, np.greater)[0] # returns tuple of arrays of local maxes\n",
    "l_max_2 = argrelextrema(n_q2, np.greater)[0]\n",
    "damp1 = -(np.log(n_q1[l_max_1[0]]))/(tlist[l_max_1[0]])\n",
    "damp2 = -(np.log(n_q2[l_max_2[0]]))/(tlist[l_max_2[0]])\n",
    "\n",
    "print(f\"The guess fit for q1 is {amp1}exp(-{damp1}t)sin(2pi{freq1}t + {phase1}) + {shift1}\")\n",
    "print(f\"The guess fit for q2 is {amp2}exp(-{damp2}t)sin(2pi{freq2}t + {phase2}) + {shift2}\")\n",
    "\n",
    "#calc decay time\n",
    "if n1 == 1 and n2 == 0:\n",
    "    Tq1 = -tlist[l_max_1[0]]/np.log(n_q1[l_max_1[0]])\n",
    "else:\n",
    "    Tq1 = 5.518197181741575e-08 # from previous calculation\n",
    "if n1 == 0 and n2 == 1:\n",
    "    Tq2 = -tlist[l_max_2[0]]/np.log(n_q2[l_max_2[0]])\n",
    "else:\n",
    "    Tq2 = 5.518197181741575e-08"
   ]
  },
  {
   "cell_type": "code",
   "execution_count": 105,
   "id": "0b13c994",
   "metadata": {},
   "outputs": [
    {
     "name": "stdout",
     "output_type": "stream",
     "text": [
      "Rabi Frequency from fitting qubit 1: 18.50835230312028GHz, period: 0.05402966096724949 ns\n",
      "Rabi Frequency from fitting qubit 2: 103473733.95065385GHz, period: 9.66428833501742e-09 ns\n",
      "Initial guesses ... amp1: 0.28084701325667577, damp1:245999580.5045526, freq1: 9254176151.56014, phase1: 0.5685509967862109, shift1: 0.813086447325099\n"
     ]
    },
    {
     "name": "stderr",
     "output_type": "stream",
     "text": [
      "/opt/anaconda3/envs/qutip-env/lib/python3.10/site-packages/scipy/optimize/minpack.py:833: OptimizeWarning: Covariance of the parameters could not be estimated\n",
      "  warnings.warn('Covariance of the parameters could not be estimated',\n"
     ]
    },
    {
     "data": {
      "text/plain": [
       "Text(0.5, 1.0, 'Vacuum Rabi oscillations Qubit 1, 2 and Cavity')"
      ]
     },
     "execution_count": 105,
     "metadata": {},
     "output_type": "execute_result"
    },
    {
     "data": {
      "image/png": "[encoded data removed]",
      "text/plain": [
       "<Figure size 720x432 with 1 Axes>"
      ]
     },
     "metadata": {
      "needs_background": "light"
     },
     "output_type": "display_data"
    }
   ],
   "source": [
    "# get fit functions for both results\n",
    "param1, param_cov1 = curve_fit(fit_guess, tlist, n_q1, maxfev=500000, p0=[amp1, r1*10**9, phase1, shift1, damp1], method='lm')\n",
    "fit_func_q1 = param1[0]*np.exp(-param1[4]*tlist)*(np.sin(param1[1]*tlist + param1[2]))**2 + param1[3]\n",
    "\n",
    "param2, param_cov2 = curve_fit(fit_guess, tlist, n_q2, maxfev=5000000, p0=[amp2, 2*np.pi*freq2, phase2, shift2,damp2])\n",
    "fit_func_q2 = param2[0]*np.exp(-param2[4]*tlist)*(np.sin(param2[1]*tlist + param2[2]))**2 + param2[3]\n",
    "\n",
    "print(f\"Rabi Frequency from fitting qubit 1: {abs(2*param1[1])/GHz}GHz, period: {1/abs(2*param1[1])*GHz} ns\")\n",
    "print(f\"Rabi Frequency from fitting qubit 2: {abs(2*param2[1])/GHz}GHz, period: {1/abs(2*param2[1])*GHz} ns\")\n",
    "print(f\"Initial guesses ... amp1: {param1[0]}, damp1:{param1[4]}, freq1: {param1[1]}, phase1: {param1[2]}, shift1: {param1[3]}\")\n",
    "\n",
    "# Oscillations with both qubits\n",
    "fig, axes = plt.subplots(1, 1, sharex=False, figsize=(10,6))#figsize=(10,18))\n",
    "axes.plot(tlist, n_c, 'r', label=\"Cavity\")\n",
    "axes.plot(tlist, n_q1, 'g', label=\"Qubit 1 excited state\")\n",
    "axes.plot(tlist, n_q2, 'b',  label=\"Qubit 2 excited state\")\n",
    "axes.legend(loc=0)\n",
    "axes.set_xlabel('Time')\n",
    "axes.set_ylabel('Occupation probability')\n",
    "axes.set_title('Vacuum Rabi oscillations Qubit 1, 2 and Cavity')\n",
    "\n",
    "# Oscillations with q1 and cavity\n",
    "# axes[1].plot(tlist, n_c, 'r', label=\"Cavity\")\n",
    "# axes[1].plot(tlist, n_q1, 'g', label=\"Qubit 1 excited state\")\n",
    "# axes[1].plot(tlist, fit_func_q1, label=\"Qubit func. fit\")\n",
    "# axes[1].legend(loc=0)\n",
    "# axes[1].set_xlabel('Time')\n",
    "# axes[1].set_ylabel('Occupation probability')\n",
    "# axes[1].set_title('Vacuum Rabi oscillations Qubit 1 and Cavity')\n",
    "\n",
    "# Oscillations with q2 and cavity\n",
    "# axes[2].plot(tlist, n_c, 'r', label=\"Cavity\")\n",
    "# axes[2].plot(tlist, n_q2, 'b',  label=\"Qubit 2 excited state\")\n",
    "# axes[2].plot(tlist, fit_func_q2, label=\"Qubit func. fit\")\n",
    "# axes[2].legend(loc=0)\n",
    "# axes[2].set_xlabel('Time')\n",
    "# axes[2].set_ylabel('Occupation probability')\n",
    "# axes[2].set_title('Vacuum Rabi oscillations Qubit 2 and Cavity')"
   ]
  },
  {
   "cell_type": "code",
   "execution_count": null,
   "id": "04c4157e",
   "metadata": {},
   "outputs": [],
   "source": []
  }
 ],
 "metadata": {
  "kernelspec": {
   "display_name": "Python 3 (ipykernel)",
   "language": "python",
   "name": "python3"
  },
  "language_info": {
   "codemirror_mode": {
    "name": "ipython",
    "version": 3
   },
   "file_extension": ".py",
   "mimetype": "text/x-python",
   "name": "python",
   "nbconvert_exporter": "python",
   "pygments_lexer": "ipython3",
   "version": "3.10.4"
  }
 },
 "nbformat": 4,
 "nbformat_minor": 5
}
