{
 "cells": [
  {
   "cell_type": "code",
   "execution_count": 13,
   "id": "df5cfc8c",
   "metadata": {},
   "outputs": [],
   "source": [
    "%matplotlib inline\n",
    "import matplotlib.pyplot as plt\n",
    "import matplotlib as mpl\n",
    "import numpy as np\n",
    "from IPython.display import Image\n",
    "from qutip import *\n",
    "from math import sqrt\n",
    "\n",
    "\n",
    "from qutip.qip.device import Processor\n",
    "from qutip_qip.device import CavityQEDModel\n",
    "from qutip_qip.device import DispersiveCavityQED\n",
    "from qutip.qip.compiler import CavityQEDCompiler\n",
    "from qutip.qip.pulse import Pulse\n",
    "from qutip.operators import sigmaz, sigmay, sigmax, destroy\n",
    "from qutip.states import basis\n",
    "from qutip.metrics import fidelity\n",
    "from qutip.qip.operations import rx, ry, rz, hadamard_transform\n",
    "from qutip.qip.circuit import QubitCircuit"
   ]
  },
  {
   "cell_type": "code",
   "execution_count": 79,
   "id": "251ba52f",
   "metadata": {},
   "outputs": [],
   "source": [
    "GHz = 10**9 #Hz\n",
    "wq1 = 3.04 * 2* np.pi#* GHz # 6.617 * GHz * 2* np.pi # wq = sqrt(8EjEc)\n",
    "wq2 = 3.00 * 2* np.pi#* GHz # 2.88 * GHz * 2* np.pi # 6.529 * GHz * 2* np.pi\n",
    "wc = 3 * 2 * np.pi #* GHz # 5.19 * GHz * 2 * np.pi\n",
    "g1 = 0.04 * 2 * np.pi #* GHz  # 0.105 * GHz * 2 * np.pi\n",
    "g2 = 0.04 * 2 * np.pi #* GHz # g1\n",
    "# cavity dissapation rate\n",
    "kappa = 0#0.033 * 2 * np.pi * GHz\n",
    "# qubit dissapation rate\n",
    "gamma1 = 0.0#0.00261 * GHz * 2* np.pi\n",
    "gamma2 = gamma1"
   ]
  },
  {
   "cell_type": "code",
   "execution_count": 80,
   "id": "eb02e7d8",
   "metadata": {},
   "outputs": [],
   "source": [
    "# add operators and make circuit\n",
    "T2 = 5\n",
    "qc = QubitCircuit(1)\n",
    "qc.add_gate(\"RZ\", 0, arg_value=np.pi)\n",
    "plus_state = (basis(2,1) + basis(2,0)).unit()\n",
    "# tlist = np.arange(0.00, 20.2, 0.2) # later"
   ]
  },
  {
   "cell_type": "code",
   "execution_count": 81,
   "id": "4bdf3f6a",
   "metadata": {},
   "outputs": [
    {
     "data": {
      "text/plain": [
       "({'sz0': array([0.        , 0.02631579])}, {'sz0': array([9.5])})"
      ]
     },
     "execution_count": 81,
     "metadata": {},
     "output_type": "execute_result"
    }
   ],
   "source": [
    "# https://notebook.community/qutip/qutip-notebooks/examples/qip-noisy-device-simulator\n",
    "# still don't know how to add detuning of qubits\n",
    "processor = DispersiveCavityQED(num_qubits=1, w0=wc, g=g1)\n",
    "processor.load_circuit(qc)"
   ]
  },
  {
   "cell_type": "code",
   "execution_count": 89,
   "id": "a6474744",
   "metadata": {},
   "outputs": [
    {
     "ename": "TypeError",
     "evalue": "e_ops dims ([[2, 2], [2, 2]]) are not compatible with the state's ([[10, 2], [1, 1]])",
     "output_type": "error",
     "traceback": [
      "\u001b[0;31m---------------------------------------------------------------------------\u001b[0m",
      "\u001b[0;31mTypeError\u001b[0m                                 Traceback (most recent call last)",
      "Input \u001b[0;32mIn [89]\u001b[0m, in \u001b[0;36m<cell line: 9>\u001b[0;34m()\u001b[0m\n\u001b[1;32m      6\u001b[0m a \u001b[38;5;241m=\u001b[39m tensor(destroy(\u001b[38;5;241m2\u001b[39m),qeye(\u001b[38;5;241m2\u001b[39m))\n\u001b[1;32m      8\u001b[0m \u001b[38;5;66;03m# pass in expectation values to get\u001b[39;00m\n\u001b[0;32m----> 9\u001b[0m result \u001b[38;5;241m=\u001b[39m \u001b[43mprocessor\u001b[49m\u001b[38;5;241;43m.\u001b[39;49m\u001b[43mrun_state\u001b[49m\u001b[43m(\u001b[49m\u001b[43mpsi0\u001b[49m\u001b[43m,\u001b[49m\u001b[43m \u001b[49m\u001b[43me_ops\u001b[49m\u001b[38;5;241;43m=\u001b[39;49m\u001b[43m \u001b[49m\u001b[43m[\u001b[49m\u001b[43ma\u001b[49m\u001b[38;5;241;43m.\u001b[39;49m\u001b[43mdag\u001b[49m\u001b[43m(\u001b[49m\u001b[43m)\u001b[49m\u001b[38;5;241;43m*\u001b[39;49m\u001b[43ma\u001b[49m\u001b[43m]\u001b[49m\u001b[43m,\u001b[49m\u001b[43m \u001b[49m\u001b[43moptions\u001b[49m\u001b[38;5;241;43m=\u001b[39;49m\u001b[43mOptions\u001b[49m\u001b[43m(\u001b[49m\u001b[43mnsteps\u001b[49m\u001b[38;5;241;43m=\u001b[39;49m\u001b[38;5;241;43m50000\u001b[39;49m\u001b[43m)\u001b[49m\u001b[43m)\u001b[49m\n\u001b[1;32m     11\u001b[0m \u001b[38;5;66;03m# print this out to see whether it worked\u001b[39;00m\n\u001b[1;32m     12\u001b[0m final_qubit_state \u001b[38;5;241m=\u001b[39m result\u001b[38;5;241m.\u001b[39mstates[\u001b[38;5;241m-\u001b[39m\u001b[38;5;241m1\u001b[39m]\n",
      "File \u001b[0;32m/opt/anaconda3/envs/qutip-env/lib/python3.10/site-packages/qutip_qip/device/modelprocessor.py:120\u001b[0m, in \u001b[0;36mModelProcessor.run_state\u001b[0;34m(self, init_state, analytical, qc, states, **kwargs)\u001b[0m\n\u001b[1;32m    118\u001b[0m \u001b[38;5;28;01mif\u001b[39;00m qc \u001b[38;5;129;01mis\u001b[39;00m \u001b[38;5;129;01mnot\u001b[39;00m \u001b[38;5;28;01mNone\u001b[39;00m:\n\u001b[1;32m    119\u001b[0m     \u001b[38;5;28mself\u001b[39m\u001b[38;5;241m.\u001b[39mload_circuit(qc)\n\u001b[0;32m--> 120\u001b[0m \u001b[38;5;28;01mreturn\u001b[39;00m \u001b[38;5;28;43msuper\u001b[39;49m\u001b[43m(\u001b[49m\u001b[43mModelProcessor\u001b[49m\u001b[43m,\u001b[49m\u001b[43m \u001b[49m\u001b[38;5;28;43mself\u001b[39;49m\u001b[43m)\u001b[49m\u001b[38;5;241;43m.\u001b[39;49m\u001b[43mrun_state\u001b[49m\u001b[43m(\u001b[49m\n\u001b[1;32m    121\u001b[0m \u001b[43m    \u001b[49m\u001b[43minit_state\u001b[49m\u001b[38;5;241;43m=\u001b[39;49m\u001b[43minit_state\u001b[49m\u001b[43m,\u001b[49m\n\u001b[1;32m    122\u001b[0m \u001b[43m    \u001b[49m\u001b[43manalytical\u001b[49m\u001b[38;5;241;43m=\u001b[39;49m\u001b[43manalytical\u001b[49m\u001b[43m,\u001b[49m\n\u001b[1;32m    123\u001b[0m \u001b[43m    \u001b[49m\u001b[43mstates\u001b[49m\u001b[38;5;241;43m=\u001b[39;49m\u001b[43mstates\u001b[49m\u001b[43m,\u001b[49m\n\u001b[1;32m    124\u001b[0m \u001b[43m    \u001b[49m\u001b[38;5;241;43m*\u001b[39;49m\u001b[38;5;241;43m*\u001b[39;49m\u001b[43mkwargs\u001b[49m\n\u001b[1;32m    125\u001b[0m \u001b[43m\u001b[49m\u001b[43m)\u001b[49m\n",
      "File \u001b[0;32m/opt/anaconda3/envs/qutip-env/lib/python3.10/site-packages/qutip_qip/device/processor.py:1200\u001b[0m, in \u001b[0;36mProcessor.run_state\u001b[0;34m(self, init_state, analytical, states, noisy, solver, **kwargs)\u001b[0m\n\u001b[1;32m   1198\u001b[0m     tlist \u001b[38;5;241m=\u001b[39m \u001b[38;5;28mself\u001b[39m\u001b[38;5;241m.\u001b[39mget_full_tlist()\n\u001b[1;32m   1199\u001b[0m \u001b[38;5;28;01mif\u001b[39;00m solver \u001b[38;5;241m==\u001b[39m \u001b[38;5;124m\"\u001b[39m\u001b[38;5;124mmesolve\u001b[39m\u001b[38;5;124m\"\u001b[39m:\n\u001b[0;32m-> 1200\u001b[0m     evo_result \u001b[38;5;241m=\u001b[39m \u001b[43mmesolve\u001b[49m\u001b[43m(\u001b[49m\n\u001b[1;32m   1201\u001b[0m \u001b[43m        \u001b[49m\u001b[43mH\u001b[49m\u001b[38;5;241;43m=\u001b[39;49m\u001b[43mnoisy_qobjevo\u001b[49m\u001b[43m,\u001b[49m\u001b[43m \u001b[49m\u001b[43mrho0\u001b[49m\u001b[38;5;241;43m=\u001b[39;49m\u001b[43minit_state\u001b[49m\u001b[43m,\u001b[49m\u001b[43m \u001b[49m\u001b[43mtlist\u001b[49m\u001b[38;5;241;43m=\u001b[39;49m\u001b[43mtlist\u001b[49m\u001b[43m,\u001b[49m\u001b[43m \u001b[49m\u001b[38;5;241;43m*\u001b[39;49m\u001b[38;5;241;43m*\u001b[39;49m\u001b[43mkwargs\u001b[49m\n\u001b[1;32m   1202\u001b[0m \u001b[43m    \u001b[49m\u001b[43m)\u001b[49m\n\u001b[1;32m   1203\u001b[0m \u001b[38;5;28;01melif\u001b[39;00m solver \u001b[38;5;241m==\u001b[39m \u001b[38;5;124m\"\u001b[39m\u001b[38;5;124mmcsolve\u001b[39m\u001b[38;5;124m\"\u001b[39m:\n\u001b[1;32m   1204\u001b[0m     evo_result \u001b[38;5;241m=\u001b[39m mcsolve(\n\u001b[1;32m   1205\u001b[0m         H\u001b[38;5;241m=\u001b[39mnoisy_qobjevo, psi0\u001b[38;5;241m=\u001b[39minit_state, tlist\u001b[38;5;241m=\u001b[39mtlist, \u001b[38;5;241m*\u001b[39m\u001b[38;5;241m*\u001b[39mkwargs\n\u001b[1;32m   1206\u001b[0m     )\n",
      "File \u001b[0;32m/opt/anaconda3/envs/qutip-env/lib/python3.10/site-packages/qutip/mesolve.py:217\u001b[0m, in \u001b[0;36mmesolve\u001b[0;34m(H, rho0, tlist, c_ops, e_ops, args, options, progress_bar, _safe_mode)\u001b[0m\n\u001b[1;32m    205\u001b[0m use_mesolve \u001b[38;5;241m=\u001b[39m ((c_ops \u001b[38;5;129;01mand\u001b[39;00m \u001b[38;5;28mlen\u001b[39m(c_ops) \u001b[38;5;241m>\u001b[39m \u001b[38;5;241m0\u001b[39m)\n\u001b[1;32m    206\u001b[0m                \u001b[38;5;129;01mor\u001b[39;00m (\u001b[38;5;129;01mnot\u001b[39;00m isket(rho0))\n\u001b[1;32m    207\u001b[0m                \u001b[38;5;129;01mor\u001b[39;00m (\u001b[38;5;28misinstance\u001b[39m(H, Qobj) \u001b[38;5;129;01mand\u001b[39;00m issuper(H))\n\u001b[0;32m   (...)\u001b[0m\n\u001b[1;32m    213\u001b[0m                \u001b[38;5;129;01mor\u001b[39;00m (\u001b[38;5;129;01mnot\u001b[39;00m \u001b[38;5;28misinstance\u001b[39m(H, (Qobj, QobjEvo)) \u001b[38;5;129;01mand\u001b[39;00m callable(H) \u001b[38;5;129;01mand\u001b[39;00m\n\u001b[1;32m    214\u001b[0m                         options\u001b[38;5;241m.\u001b[39mrhs_with_state))\n\u001b[1;32m    216\u001b[0m \u001b[38;5;28;01mif\u001b[39;00m \u001b[38;5;129;01mnot\u001b[39;00m use_mesolve:\n\u001b[0;32m--> 217\u001b[0m     \u001b[38;5;28;01mreturn\u001b[39;00m \u001b[43msesolve\u001b[49m\u001b[43m(\u001b[49m\u001b[43mH\u001b[49m\u001b[43m,\u001b[49m\u001b[43m \u001b[49m\u001b[43mrho0\u001b[49m\u001b[43m,\u001b[49m\u001b[43m \u001b[49m\u001b[43mtlist\u001b[49m\u001b[43m,\u001b[49m\u001b[43m \u001b[49m\u001b[43me_ops\u001b[49m\u001b[38;5;241;43m=\u001b[39;49m\u001b[43me_ops\u001b[49m\u001b[43m,\u001b[49m\u001b[43m \u001b[49m\u001b[43margs\u001b[49m\u001b[38;5;241;43m=\u001b[39;49m\u001b[43margs\u001b[49m\u001b[43m,\u001b[49m\u001b[43m \u001b[49m\u001b[43moptions\u001b[49m\u001b[38;5;241;43m=\u001b[39;49m\u001b[43moptions\u001b[49m\u001b[43m,\u001b[49m\n\u001b[1;32m    218\u001b[0m \u001b[43m                   \u001b[49m\u001b[43mprogress_bar\u001b[49m\u001b[38;5;241;43m=\u001b[39;49m\u001b[43mprogress_bar\u001b[49m\u001b[43m,\u001b[49m\u001b[43m \u001b[49m\u001b[43m_safe_mode\u001b[49m\u001b[38;5;241;43m=\u001b[39;49m\u001b[43m_safe_mode\u001b[49m\u001b[43m)\u001b[49m\n\u001b[1;32m    220\u001b[0m \u001b[38;5;28;01mif\u001b[39;00m isket(rho0):\n\u001b[1;32m    221\u001b[0m     rho0 \u001b[38;5;241m=\u001b[39m ket2dm(rho0)\n",
      "File \u001b[0;32m/opt/anaconda3/envs/qutip-env/lib/python3.10/site-packages/qutip/sesolve.py:136\u001b[0m, in \u001b[0;36msesolve\u001b[0;34m(H, psi0, tlist, e_ops, args, options, progress_bar, _safe_mode)\u001b[0m\n\u001b[1;32m    133\u001b[0m     v \u001b[38;5;241m=\u001b[39m psi0\u001b[38;5;241m.\u001b[39mfull()\u001b[38;5;241m.\u001b[39mravel(\u001b[38;5;124m'\u001b[39m\u001b[38;5;124mF\u001b[39m\u001b[38;5;124m'\u001b[39m)\n\u001b[1;32m    134\u001b[0m     func(\u001b[38;5;241m0.\u001b[39m, v, \u001b[38;5;241m*\u001b[39mode_args) \u001b[38;5;241m+\u001b[39m v\n\u001b[0;32m--> 136\u001b[0m res \u001b[38;5;241m=\u001b[39m \u001b[43m_generic_ode_solve\u001b[49m\u001b[43m(\u001b[49m\u001b[43mfunc\u001b[49m\u001b[43m,\u001b[49m\u001b[43m \u001b[49m\u001b[43mode_args\u001b[49m\u001b[43m,\u001b[49m\u001b[43m \u001b[49m\u001b[43mpsi0\u001b[49m\u001b[43m,\u001b[49m\u001b[43m \u001b[49m\u001b[43mtlist\u001b[49m\u001b[43m,\u001b[49m\u001b[43m \u001b[49m\u001b[43me_ops\u001b[49m\u001b[43m,\u001b[49m\u001b[43m \u001b[49m\u001b[43moptions\u001b[49m\u001b[43m,\u001b[49m\n\u001b[1;32m    137\u001b[0m \u001b[43m                         \u001b[49m\u001b[43mprogress_bar\u001b[49m\u001b[43m,\u001b[49m\u001b[43m \u001b[49m\u001b[43mdims\u001b[49m\u001b[38;5;241;43m=\u001b[39;49m\u001b[43mpsi0\u001b[49m\u001b[38;5;241;43m.\u001b[39;49m\u001b[43mdims\u001b[49m\u001b[43m)\u001b[49m\n\u001b[1;32m    138\u001b[0m \u001b[38;5;28;01mif\u001b[39;00m e_ops_dict:\n\u001b[1;32m    139\u001b[0m     res\u001b[38;5;241m.\u001b[39mexpect \u001b[38;5;241m=\u001b[39m {e: res\u001b[38;5;241m.\u001b[39mexpect[n]\n\u001b[1;32m    140\u001b[0m                   \u001b[38;5;28;01mfor\u001b[39;00m n, e \u001b[38;5;129;01min\u001b[39;00m \u001b[38;5;28menumerate\u001b[39m(e_ops_dict\u001b[38;5;241m.\u001b[39mkeys())}\n",
      "File \u001b[0;32m/opt/anaconda3/envs/qutip-env/lib/python3.10/site-packages/qutip/sesolve.py:303\u001b[0m, in \u001b[0;36m_generic_ode_solve\u001b[0;34m(func, ode_args, psi0, tlist, e_ops, opt, progress_bar, dims)\u001b[0m\n\u001b[1;32m    301\u001b[0m     e_ops_data\u001b[38;5;241m.\u001b[39mappend(e)\n\u001b[1;32m    302\u001b[0m \u001b[38;5;28;01melif\u001b[39;00m e\u001b[38;5;241m.\u001b[39mdims[\u001b[38;5;241m1\u001b[39m] \u001b[38;5;241m!=\u001b[39m psi0\u001b[38;5;241m.\u001b[39mdims[\u001b[38;5;241m0\u001b[39m]:\n\u001b[0;32m--> 303\u001b[0m     \u001b[38;5;28;01mraise\u001b[39;00m \u001b[38;5;167;01mTypeError\u001b[39;00m(\u001b[38;5;124mf\u001b[39m\u001b[38;5;124m\"\u001b[39m\u001b[38;5;124me_ops dims (\u001b[39m\u001b[38;5;132;01m{\u001b[39;00me\u001b[38;5;241m.\u001b[39mdims\u001b[38;5;132;01m}\u001b[39;00m\u001b[38;5;124m) are not compatible\u001b[39m\u001b[38;5;124m\"\u001b[39m\n\u001b[1;32m    304\u001b[0m                     \u001b[38;5;124mf\u001b[39m\u001b[38;5;124m\"\u001b[39m\u001b[38;5;124m with the state\u001b[39m\u001b[38;5;124m'\u001b[39m\u001b[38;5;124ms (\u001b[39m\u001b[38;5;132;01m{\u001b[39;00mpsi0\u001b[38;5;241m.\u001b[39mdims\u001b[38;5;132;01m}\u001b[39;00m\u001b[38;5;124m)\u001b[39m\u001b[38;5;124m\"\u001b[39m)\n\u001b[1;32m    305\u001b[0m \u001b[38;5;28;01melse\u001b[39;00m:\n\u001b[1;32m    306\u001b[0m     e_ops_data\u001b[38;5;241m.\u001b[39mappend(e\u001b[38;5;241m.\u001b[39mdata)\n",
      "\u001b[0;31mTypeError\u001b[0m: e_ops dims ([[2, 2], [2, 2]]) are not compatible with the state's ([[10, 2], [1, 1]])"
     ]
    }
   ],
   "source": [
    "# to run a simulation with the processor, need to have a quantum circuit to evolve\n",
    "#initial state to feed in, not sure what dims should be\n",
    "psi0 = basis([10,2],[0,0]) \n",
    "\n",
    "# operator to get expectation value for, not sure what dims should be\n",
    "a = tensor(destroy(2),qeye(2))\n",
    "\n",
    "# pass in expectation values to get\n",
    "result = processor.run_state(psi0, e_ops= [a.dag()*a], options=Options(nsteps=50000))\n",
    "\n",
    "# print this out to see whether it worked\n",
    "final_qubit_state = result.states[-1]\n",
    "print(final_qubit_state)\n",
    "print(result)\n"
   ]
  },
  {
   "cell_type": "code",
   "execution_count": null,
   "id": "335d1096",
   "metadata": {},
   "outputs": [],
   "source": []
  }
 ],
 "metadata": {
  "kernelspec": {
   "display_name": "Python 3 (ipykernel)",
   "language": "python",
   "name": "python3"
  },
  "language_info": {
   "codemirror_mode": {
    "name": "ipython",
    "version": 3
   },
   "file_extension": ".py",
   "mimetype": "text/x-python",
   "name": "python",
   "nbconvert_exporter": "python",
   "pygments_lexer": "ipython3",
   "version": "3.10.4"
  }
 },
 "nbformat": 4,
 "nbformat_minor": 5
}
