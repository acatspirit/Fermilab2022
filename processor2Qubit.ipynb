{
 "cells": [
  {
   "cell_type": "code",
   "execution_count": 141,
   "id": "df5cfc8c",
   "metadata": {},
   "outputs": [],
   "source": [
    "%matplotlib inline\n",
    "import matplotlib.pyplot as plt\n",
    "import matplotlib\n",
    "matplotlib.use('TkAgg')\n",
    "import matplotlib as mpl\n",
    "import numpy as np\n",
    "from IPython.display import Image\n",
    "from qutip import *\n",
    "from math import sqrt\n",
    "\n",
    "\n",
    "from qutip.qip.device import Processor\n",
    "from qutip_qip.device import CavityQEDModel\n",
    "from qutip_qip.device import DispersiveCavityQED\n",
    "from qutip.qip.compiler import CavityQEDCompiler\n",
    "from qutip.qip.pulse import Pulse\n",
    "from qutip.operators import sigmaz, sigmay, sigmax, destroy\n",
    "from qutip.states import basis\n",
    "from qutip.metrics import fidelity\n",
    "from qutip.qip.operations import rx, ry, rz, hadamard_transform\n",
    "from qutip.qip.circuit import QubitCircuit, Gate\n",
    "from qutip.qip.operations import cnot\n",
    "\n",
    "\n",
    "#https://nbviewer.ipython.org/github/qutip/qutip-notebooks/blob/master/examples/qip-randomized-benchmarking.ipynb"
   ]
  },
  {
   "cell_type": "code",
   "execution_count": 131,
   "id": "251ba52f",
   "metadata": {},
   "outputs": [],
   "source": [
    "GHz = 10**9 #Hz\n",
    "wq1 = 3.04 #* GHz # 6.617 * GHz * 2* np.pi # wq = sqrt(8EjEc)\n",
    "wq2 = 3.00 #* GHz # 2.88 * GHz * 2* np.pi # 6.529 * GHz * 2* np.pi\n",
    "wc = 3  #* GHz # 5.19 * GHz * 2 * np.pi\n",
    "g1 = 0.04 #* GHz  # 0.105 * GHz * 2 * np.pi\n",
    "g2 = 0.04 #* GHz # g1\n",
    "f = 0.5\n",
    "amp = 0.1\n",
    "# cavity dissapation rate\n",
    "kappa = 0#0.033 * 2 * np.pi * GHz\n",
    "# qubit dissapation rate\n",
    "gamma1 = 0.0#0.00261 * GHz * 2* np.pi\n",
    "gamma2 = gamma1\n",
    "num_qubits = 1\n",
    "num_c_levels = 2"
   ]
  },
  {
   "cell_type": "code",
   "execution_count": 116,
   "id": "6e2c2e3d",
   "metadata": {},
   "outputs": [],
   "source": [
    "# add operators and make circuit\n",
    "T2 = 5\n",
    "# tlist = np.arange(0.00, 20.2, 0.2) # later"
   ]
  },
  {
   "cell_type": "code",
   "execution_count": 129,
   "id": "4bdf3f6a",
   "metadata": {},
   "outputs": [],
   "source": [
    "# https://notebook.community/qutip/qutip-notebooks/examples/qip-noisy-device-simulator\n",
    "# still don't know how to add detuning of qubits\n",
    "processor = DispersiveCavityQED(num_qubits=num_qubits, num_levels = num_c_levels, sx=np.pi/2, w0=wc, g=10, t2=T2)\n",
    "ham_idle = 2*np.pi * sigmaz()/2 * f\n",
    "resonant_sx = 2*np.pi * sigmax () - ham_idle / (amp/2)\n",
    "processor.add_drift(ham_idle, targets =0)\n",
    "processor.add_control (resonant_sx , targets =0 , label =\"sx0\")"
   ]
  },
  {
   "cell_type": "code",
   "execution_count": 142,
   "id": "a6474744",
   "metadata": {},
   "outputs": [
    {
     "ename": "NotImplementedError",
     "evalue": "Gate CPHASE cannot be resolved.",
     "output_type": "error",
     "traceback": [
      "\u001b[0;31m---------------------------------------------------------------------------\u001b[0m",
      "\u001b[0;31mAttributeError\u001b[0m                            Traceback (most recent call last)",
      "File \u001b[0;32m/opt/anaconda3/envs/qutip-env/lib/python3.10/site-packages/qutip/qip/circuit.py:1271\u001b[0m, in \u001b[0;36mQubitCircuit.resolve_gates\u001b[0;34m(self, basis)\u001b[0m\n\u001b[1;32m   1270\u001b[0m \u001b[38;5;28;01mtry\u001b[39;00m:\n\u001b[0;32m-> 1271\u001b[0m     \u001b[38;5;28;43mself\u001b[39;49m\u001b[38;5;241;43m.\u001b[39;49m\u001b[43m_resolve_to_universal\u001b[49m\u001b[43m(\u001b[49m\u001b[43mgate\u001b[49m\u001b[43m,\u001b[49m\u001b[43m \u001b[49m\u001b[43mtemp_resolved\u001b[49m\u001b[43m,\u001b[49m\n\u001b[1;32m   1272\u001b[0m \u001b[43m                               \u001b[49m\u001b[43mbasis_1q\u001b[49m\u001b[43m,\u001b[49m\u001b[43m \u001b[49m\u001b[43mbasis_2q\u001b[49m\u001b[43m)\u001b[49m\n\u001b[1;32m   1273\u001b[0m \u001b[38;5;28;01mexcept\u001b[39;00m \u001b[38;5;167;01mAttributeError\u001b[39;00m:\n",
      "File \u001b[0;32m/opt/anaconda3/envs/qutip-env/lib/python3.10/site-packages/qutip/qip/circuit.py:718\u001b[0m, in \u001b[0;36mQubitCircuit._resolve_to_universal\u001b[0;34m(self, gate, temp_resolved, basis_1q, basis_2q)\u001b[0m\n\u001b[1;32m    717\u001b[0m     \u001b[38;5;28;01melse\u001b[39;00m:\n\u001b[0;32m--> 718\u001b[0m         method \u001b[38;5;241m=\u001b[39m \u001b[38;5;28;43mgetattr\u001b[39;49m\u001b[43m(\u001b[49m\u001b[38;5;28;43mself\u001b[39;49m\u001b[43m,\u001b[49m\u001b[43m \u001b[49m\u001b[38;5;124;43m'\u001b[39;49m\u001b[38;5;124;43m_gate_\u001b[39;49m\u001b[38;5;124;43m'\u001b[39;49m\u001b[43m \u001b[49m\u001b[38;5;241;43m+\u001b[39;49m\u001b[43m \u001b[49m\u001b[38;5;28;43mstr\u001b[39;49m\u001b[43m(\u001b[49m\u001b[43mgate\u001b[49m\u001b[38;5;241;43m.\u001b[39;49m\u001b[43mname\u001b[49m\u001b[43m)\u001b[49m\u001b[43m)\u001b[49m\n\u001b[1;32m    719\u001b[0m method(gate, temp_resolved)\n",
      "\u001b[0;31mAttributeError\u001b[0m: 'QubitCircuit' object has no attribute '_gate_CPHASE'",
      "\nDuring handling of the above exception, another exception occurred:\n",
      "\u001b[0;31mNotImplementedError\u001b[0m                       Traceback (most recent call last)",
      "Input \u001b[0;32mIn [142]\u001b[0m, in \u001b[0;36m<cell line: 10>\u001b[0;34m()\u001b[0m\n\u001b[1;32m      8\u001b[0m     \u001b[38;5;28;01mreturn\u001b[39;00m result\u001b[38;5;241m.\u001b[39mexpect[\u001b[38;5;241m0\u001b[39m][\u001b[38;5;241m-\u001b[39m\u001b[38;5;241m1\u001b[39m]\n\u001b[1;32m     10\u001b[0m \u001b[38;5;28;01mfor\u001b[39;00m t \u001b[38;5;129;01min\u001b[39;00m tlist:\n\u001b[0;32m---> 11\u001b[0m     output \u001b[38;5;241m=\u001b[39m \u001b[43mramsey\u001b[49m\u001b[43m(\u001b[49m\u001b[43mt\u001b[49m\u001b[43m,\u001b[49m\u001b[43mprocessor\u001b[49m\u001b[43m)\u001b[49m\n",
      "Input \u001b[0;32mIn [142]\u001b[0m, in \u001b[0;36mramsey\u001b[0;34m(t, proc)\u001b[0m\n\u001b[1;32m      4\u001b[0m qc\u001b[38;5;241m.\u001b[39madd_gate(\u001b[38;5;124m\"\u001b[39m\u001b[38;5;124mCPHASE\u001b[39m\u001b[38;5;124m\"\u001b[39m, controls\u001b[38;5;241m=\u001b[39m\u001b[38;5;241m0\u001b[39m , targets\u001b[38;5;241m=\u001b[39m\u001b[38;5;241m0\u001b[39m, arg_value \u001b[38;5;241m=\u001b[39m t )\n\u001b[1;32m      5\u001b[0m qc\u001b[38;5;241m.\u001b[39madd_gate(\u001b[38;5;124m\"\u001b[39m\u001b[38;5;124mRX\u001b[39m\u001b[38;5;124m\"\u001b[39m, \u001b[38;5;241m0\u001b[39m , arg_value \u001b[38;5;241m=\u001b[39mnp\u001b[38;5;241m.\u001b[39mpi\u001b[38;5;241m/\u001b[39m\u001b[38;5;241m2\u001b[39m )\n\u001b[0;32m----> 6\u001b[0m \u001b[43mproc\u001b[49m\u001b[38;5;241;43m.\u001b[39;49m\u001b[43mload_circuit\u001b[49m\u001b[43m(\u001b[49m\u001b[43mqc\u001b[49m\u001b[43m)\u001b[49m\n\u001b[1;32m      7\u001b[0m result \u001b[38;5;241m=\u001b[39m processor\u001b[38;5;241m.\u001b[39mrun_state(init_state\u001b[38;5;241m=\u001b[39mbasis(\u001b[38;5;241m2\u001b[39m,\u001b[38;5;241m0\u001b[39m), e_ops\u001b[38;5;241m=\u001b[39msigmaz())\n\u001b[1;32m      8\u001b[0m \u001b[38;5;28;01mreturn\u001b[39;00m result\u001b[38;5;241m.\u001b[39mexpect[\u001b[38;5;241m0\u001b[39m][\u001b[38;5;241m-\u001b[39m\u001b[38;5;241m1\u001b[39m]\n",
      "File \u001b[0;32m/opt/anaconda3/envs/qutip-env/lib/python3.10/site-packages/qutip_qip/device/cavityqed.py:164\u001b[0m, in \u001b[0;36mDispersiveCavityQED.load_circuit\u001b[0;34m(self, qc, schedule_mode, compiler)\u001b[0m\n\u001b[1;32m    160\u001b[0m \u001b[38;5;28;01mif\u001b[39;00m compiler \u001b[38;5;129;01mis\u001b[39;00m \u001b[38;5;28;01mNone\u001b[39;00m:\n\u001b[1;32m    161\u001b[0m     compiler \u001b[38;5;241m=\u001b[39m CavityQEDCompiler(\n\u001b[1;32m    162\u001b[0m         \u001b[38;5;28mself\u001b[39m\u001b[38;5;241m.\u001b[39mnum_qubits, \u001b[38;5;28mself\u001b[39m\u001b[38;5;241m.\u001b[39mparams, global_phase\u001b[38;5;241m=\u001b[39m\u001b[38;5;241m0.0\u001b[39m\n\u001b[1;32m    163\u001b[0m     )\n\u001b[0;32m--> 164\u001b[0m tlist, coeff \u001b[38;5;241m=\u001b[39m \u001b[38;5;28;43msuper\u001b[39;49m\u001b[43m(\u001b[49m\u001b[43m)\u001b[49m\u001b[38;5;241;43m.\u001b[39;49m\u001b[43mload_circuit\u001b[49m\u001b[43m(\u001b[49m\n\u001b[1;32m    165\u001b[0m \u001b[43m    \u001b[49m\u001b[43mqc\u001b[49m\u001b[43m,\u001b[49m\u001b[43m \u001b[49m\u001b[43mschedule_mode\u001b[49m\u001b[38;5;241;43m=\u001b[39;49m\u001b[43mschedule_mode\u001b[49m\u001b[43m,\u001b[49m\u001b[43m \u001b[49m\u001b[43mcompiler\u001b[49m\u001b[38;5;241;43m=\u001b[39;49m\u001b[43mcompiler\u001b[49m\n\u001b[1;32m    166\u001b[0m \u001b[43m\u001b[49m\u001b[43m)\u001b[49m\n\u001b[1;32m    167\u001b[0m \u001b[38;5;28mself\u001b[39m\u001b[38;5;241m.\u001b[39mglobal_phase \u001b[38;5;241m=\u001b[39m compiler\u001b[38;5;241m.\u001b[39mglobal_phase\n\u001b[1;32m    168\u001b[0m \u001b[38;5;28;01mreturn\u001b[39;00m tlist, coeff\n",
      "File \u001b[0;32m/opt/anaconda3/envs/qutip-env/lib/python3.10/site-packages/qutip_qip/device/modelprocessor.py:231\u001b[0m, in \u001b[0;36mModelProcessor.load_circuit\u001b[0;34m(self, qc, schedule_mode, compiler)\u001b[0m\n\u001b[1;32m    207\u001b[0m \u001b[38;5;28;01mdef\u001b[39;00m \u001b[38;5;21mload_circuit\u001b[39m(\u001b[38;5;28mself\u001b[39m, qc, schedule_mode\u001b[38;5;241m=\u001b[39m\u001b[38;5;124m\"\u001b[39m\u001b[38;5;124mASAP\u001b[39m\u001b[38;5;124m\"\u001b[39m, compiler\u001b[38;5;241m=\u001b[39m\u001b[38;5;28;01mNone\u001b[39;00m):\n\u001b[1;32m    208\u001b[0m     \u001b[38;5;124;03m\"\"\"\u001b[39;00m\n\u001b[1;32m    209\u001b[0m \u001b[38;5;124;03m    The default routine of compilation.\u001b[39;00m\n\u001b[1;32m    210\u001b[0m \u001b[38;5;124;03m    It first calls the :meth:`.transpile` to convert the circuit to\u001b[39;00m\n\u001b[0;32m   (...)\u001b[0m\n\u001b[1;32m    229\u001b[0m \u001b[38;5;124;03m        compiled pulse coefficients.\u001b[39;00m\n\u001b[1;32m    230\u001b[0m \u001b[38;5;124;03m    \"\"\"\u001b[39;00m\n\u001b[0;32m--> 231\u001b[0m     qc \u001b[38;5;241m=\u001b[39m \u001b[38;5;28;43mself\u001b[39;49m\u001b[38;5;241;43m.\u001b[39;49m\u001b[43mtranspile\u001b[49m\u001b[43m(\u001b[49m\u001b[43mqc\u001b[49m\u001b[43m)\u001b[49m\n\u001b[1;32m    232\u001b[0m     \u001b[38;5;66;03m# Choose a compiler and compile the circuit\u001b[39;00m\n\u001b[1;32m    233\u001b[0m     \u001b[38;5;28;01mif\u001b[39;00m compiler \u001b[38;5;129;01mis\u001b[39;00m \u001b[38;5;28;01mNone\u001b[39;00m \u001b[38;5;129;01mand\u001b[39;00m \u001b[38;5;28mself\u001b[39m\u001b[38;5;241m.\u001b[39m_default_compiler \u001b[38;5;129;01mis\u001b[39;00m \u001b[38;5;129;01mnot\u001b[39;00m \u001b[38;5;28;01mNone\u001b[39;00m:\n",
      "File \u001b[0;32m/opt/anaconda3/envs/qutip-env/lib/python3.10/site-packages/qutip_qip/device/modelprocessor.py:204\u001b[0m, in \u001b[0;36mModelProcessor.transpile\u001b[0;34m(self, qc)\u001b[0m\n\u001b[1;32m    202\u001b[0m     \u001b[38;5;28;01mpass\u001b[39;00m\n\u001b[1;32m    203\u001b[0m \u001b[38;5;28;01mif\u001b[39;00m \u001b[38;5;28mself\u001b[39m\u001b[38;5;241m.\u001b[39mnative_gates \u001b[38;5;129;01mis\u001b[39;00m \u001b[38;5;129;01mnot\u001b[39;00m \u001b[38;5;28;01mNone\u001b[39;00m:\n\u001b[0;32m--> 204\u001b[0m     qc \u001b[38;5;241m=\u001b[39m \u001b[43mqc\u001b[49m\u001b[38;5;241;43m.\u001b[39;49m\u001b[43mresolve_gates\u001b[49m\u001b[43m(\u001b[49m\u001b[43mbasis\u001b[49m\u001b[38;5;241;43m=\u001b[39;49m\u001b[38;5;28;43mself\u001b[39;49m\u001b[38;5;241;43m.\u001b[39;49m\u001b[43mnative_gates\u001b[49m\u001b[43m)\u001b[49m\n\u001b[1;32m    205\u001b[0m \u001b[38;5;28;01mreturn\u001b[39;00m qc\n",
      "File \u001b[0;32m/opt/anaconda3/envs/qutip-env/lib/python3.10/site-packages/qutip/qip/circuit.py:1275\u001b[0m, in \u001b[0;36mQubitCircuit.resolve_gates\u001b[0;34m(self, basis)\u001b[0m\n\u001b[1;32m   1273\u001b[0m     \u001b[38;5;28;01mexcept\u001b[39;00m \u001b[38;5;167;01mAttributeError\u001b[39;00m:\n\u001b[1;32m   1274\u001b[0m         exception \u001b[38;5;241m=\u001b[39m \u001b[38;5;124mf\u001b[39m\u001b[38;5;124m\"\u001b[39m\u001b[38;5;124mGate \u001b[39m\u001b[38;5;132;01m{\u001b[39;00mgate\u001b[38;5;241m.\u001b[39mname\u001b[38;5;132;01m}\u001b[39;00m\u001b[38;5;124m cannot be resolved.\u001b[39m\u001b[38;5;124m\"\u001b[39m\n\u001b[0;32m-> 1275\u001b[0m         \u001b[38;5;28;01mraise\u001b[39;00m \u001b[38;5;167;01mNotImplementedError\u001b[39;00m(exception)\n\u001b[1;32m   1277\u001b[0m match \u001b[38;5;241m=\u001b[39m \u001b[38;5;28;01mFalse\u001b[39;00m\n\u001b[1;32m   1278\u001b[0m \u001b[38;5;28;01mfor\u001b[39;00m basis_unit \u001b[38;5;129;01min\u001b[39;00m [\u001b[38;5;124m\"\u001b[39m\u001b[38;5;124mCSIGN\u001b[39m\u001b[38;5;124m\"\u001b[39m, \u001b[38;5;124m\"\u001b[39m\u001b[38;5;124mISWAP\u001b[39m\u001b[38;5;124m\"\u001b[39m, \u001b[38;5;124m\"\u001b[39m\u001b[38;5;124mSQRTSWAP\u001b[39m\u001b[38;5;124m\"\u001b[39m, \u001b[38;5;124m\"\u001b[39m\u001b[38;5;124mSQRTISWAP\u001b[39m\u001b[38;5;124m\"\u001b[39m]:\n",
      "\u001b[0;31mNotImplementedError\u001b[0m: Gate CPHASE cannot be resolved."
     ]
    }
   ],
   "source": [
    "def ramsey(t,proc):\n",
    "    qc = QubitCircuit(1)\n",
    "    qc.add_gate(\"RX\", 0 , arg_value =np.pi/2 )\n",
    "    qc.add_gate(\"CPHASE\", controls=0 , targets=0, arg_value = t )\n",
    "    qc.add_gate(\"RX\", 0 , arg_value =np.pi/2 )\n",
    "    proc.load_circuit(qc)\n",
    "    result = processor.run_state(init_state=basis(2,0), e_ops=sigmaz())\n",
    "    return result.expect[0][-1]\n",
    " \n",
    "for t in tlist:\n",
    "    output = ramsey(t,processor)"
   ]
  },
  {
   "cell_type": "code",
   "execution_count": 132,
   "id": "0d1f47ce",
   "metadata": {},
   "outputs": [
    {
     "name": "stderr",
     "output_type": "stream",
     "text": [
      "/var/folders/m6/1pcn_m250l175cmxwtstjnxh0000gn/T/ipykernel_2083/250727462.py:28: UserWarning: Matplotlib is currently using module://matplotlib_inline.backend_inline, which is a non-GUI backend, so cannot show the figure.\n",
      "  fig.show()\n"
     ]
    },
    {
     "data": {
      "image/png": "[encoded data removed]",
      "text/plain": [
       "<Figure size 432x288 with 1 Axes>"
      ]
     },
     "metadata": {
      "needs_background": "light"
     },
     "output_type": "display_data"
    }
   ],
   "source": [
    "# to run a simulation with the processor, need to have a quantum circuit to evolve\n",
    "#initial state to feed in, not sure what dims should be\n",
    "psi0 = tensor((basis(2, 0) + basis(2, 1)).unit(), basis(2, 0))\n",
    "psi0 = psi0.ptrace(0)\n",
    "psi0 = tensor(basis(num_c_levels,0), basis(2,1))\n",
    "# operator to get expectation value for, not sure what dims should be\n",
    "a = tensor(destroy(num_c_levels), qeye(2))\n",
    "Hadamard = tensor(snot(), identity(num_c_levels))\n",
    "# op = Hadamard*a.dag()*a*Hadamard\n",
    "sm = tensor(qeye(num_c_levels), destroy(2))\n",
    "T2 = 5\n",
    "tlist = np.arange(0.00, 20.2, 0.2)\n",
    "coeff = np.ones(len(tlist))\n",
    "\n",
    "# pass in expectation values to get\n",
    "result = processor.run_state(psi0, tlist=tlist, e_ops=[a.dag()*a, Hadamard*a.dag()*a*Hadamard], options=Options(nsteps=50000))\n",
    " \n",
    "fig, ax = plt.subplots()\n",
    "# # detail about length of tlist needs to be fixed\n",
    "ax.plot(tlist[:-1], result.expect[1][:-1], '.', label=\"simulation\")\n",
    "ax.plot(tlist[:-1], np.exp(-1./T2*tlist[:-1])*0.5 + 0.5, label=\"theory\")\n",
    "ax.set_xlabel(\"t\")\n",
    "ax.set_ylabel(\"Ramsey signal\")\n",
    "ax.legend()\n",
    "ax.set_title(\"Relaxation T2=5\")\n",
    "ax.grid()\n",
    "fig.tight_layout()\n",
    "fig.show()"
   ]
  },
  {
   "cell_type": "code",
   "execution_count": 86,
   "id": "2af017a2",
   "metadata": {},
   "outputs": [
    {
     "name": "stderr",
     "output_type": "stream",
     "text": [
      "/var/folders/m6/1pcn_m250l175cmxwtstjnxh0000gn/T/ipykernel_2083/752181755.py:2: DeprecationWarning: Importing functions/classes of the qip submodule directly from the namespace qutip is deprecated. Please import them from the submodule instead, e.g.\n",
      "from qutip.qip.operations import cnot\n",
      "from qutip.qip.circuit import QubitCircuit\n",
      "\n",
      "  Hadamard = snot()\n",
      "/opt/anaconda3/envs/qutip-env/lib/python3.10/site-packages/qutip_qip/device/cavityqed.py:337: UserWarning: The rotating-wave approximation might not be valid.\n",
      "  warnings.warn(\n"
     ]
    },
    {
     "ename": "TypeError",
     "evalue": "Processor.add_pulse() missing 1 required positional argument: 'pulse'",
     "output_type": "error",
     "traceback": [
      "\u001b[0;31m---------------------------------------------------------------------------\u001b[0m",
      "\u001b[0;31mTypeError\u001b[0m                                 Traceback (most recent call last)",
      "Input \u001b[0;32mIn [86]\u001b[0m, in \u001b[0;36m<cell line: 11>\u001b[0;34m()\u001b[0m\n\u001b[1;32m      8\u001b[0m pulse \u001b[38;5;241m=\u001b[39m Pulse(sigmaz(), targets\u001b[38;5;241m=\u001b[39m\u001b[38;5;241m0\u001b[39m, coeff\u001b[38;5;241m=\u001b[39mcoeff, tlist\u001b[38;5;241m=\u001b[39mtlist)\n\u001b[1;32m     10\u001b[0m processor \u001b[38;5;241m=\u001b[39m DispersiveCavityQED(\u001b[38;5;241m1\u001b[39m,w0\u001b[38;5;241m=\u001b[39mwc,g\u001b[38;5;241m=\u001b[39mg1,t2\u001b[38;5;241m=\u001b[39mT2)\n\u001b[0;32m---> 11\u001b[0m \u001b[43mprocessor\u001b[49m\u001b[38;5;241;43m.\u001b[39;49m\u001b[43madd_pulse\u001b[49m\u001b[43m(\u001b[49m\u001b[43m)\u001b[49m\n\u001b[1;32m     12\u001b[0m processor\u001b[38;5;241m.\u001b[39mpulses[\u001b[38;5;241m0\u001b[39m]\u001b[38;5;241m.\u001b[39mcoeff \u001b[38;5;241m=\u001b[39m np\u001b[38;5;241m.\u001b[39mones(\u001b[38;5;28mlen\u001b[39m(tlist))\n\u001b[1;32m     13\u001b[0m processor\u001b[38;5;241m.\u001b[39mpulses[\u001b[38;5;241m0\u001b[39m]\u001b[38;5;241m.\u001b[39mtlist \u001b[38;5;241m=\u001b[39m tlist\n",
      "\u001b[0;31mTypeError\u001b[0m: Processor.add_pulse() missing 1 required positional argument: 'pulse'"
     ]
    }
   ],
   "source": [
    "a = destroy(2)\n",
    "Hadamard = snot()\n",
    "plus_state =  basis([10,2],[0,0])\n",
    "op = tensor(qeye(10), Hadamard*a.dag()*a*Hadamard)\n",
    "T2 = 5\n",
    "coeff = np.ones(len(tlist))\n",
    "tlist = np.arange(0.00, 20.2, 0.2)\n",
    "pulse = Pulse(sigmaz(), targets=0, coeff=coeff, tlist=tlist)\n",
    "\n",
    "processor = DispersiveCavityQED(1,w0=wc,g=g1,t2=T2)\n",
    "processor.add_pulse()\n",
    "processor.pulses[0].coeff = np.ones(len(tlist))\n",
    "processor.pulses[0].tlist = tlist\n",
    "result = processor.run_state(\n",
    "    plus_state, tlist=tlist) #, e_ops=op)\n",
    "# qob(result).expect(op)\n",
    "\n",
    "fig, ax = plt.subplots()\n",
    "# detail about length of tlist needs to be fixed\n",
    "ax.plot(tlist[:-1], result.expect(op)[0][:-1], '.', label=\"simulation\")\n",
    "ax.plot(tlist[:-1], np.exp(-1./T2*tlist[:-1])*0.5 + 0.5, label=\"theory\")\n",
    "ax.set_xlabel(\"t\")\n",
    "ax.set_ylabel(\"Ramsey signal\")\n",
    "ax.legend()\n",
    "ax.set_title(\"Relaxation T2=5\")\n",
    "ax.grid()\n",
    "fig.tight_layout()\n",
    "fig.show()"
   ]
  },
  {
   "cell_type": "code",
   "execution_count": 87,
   "id": "9633fc32",
   "metadata": {},
   "outputs": [
    {
     "name": "stderr",
     "output_type": "stream",
     "text": [
      "/var/folders/m6/1pcn_m250l175cmxwtstjnxh0000gn/T/ipykernel_2083/3853142120.py:30: UserWarning: Matplotlib is currently using module://matplotlib_inline.backend_inline, which is a non-GUI backend, so cannot show the figure.\n",
      "  fig.show()\n"
     ]
    },
    {
     "data": {
      "image/png": "[encoded data removed]",
      "text/plain": [
       "<Figure size 432x288 with 1 Axes>"
      ]
     },
     "metadata": {
      "needs_background": "light"
     },
     "output_type": "display_data"
    }
   ],
   "source": [
    "import numpy as np\n",
    "import matplotlib.pyplot as plt\n",
    "from qutip import sigmaz, destroy, basis\n",
    "from qutip.qip.device import Processor\n",
    "from qutip.qip.operations import snot\n",
    "\n",
    "a = destroy(2)\n",
    "Hadamard = snot()\n",
    "plus_state = (basis(2,1) + basis(2,0)).unit()\n",
    "tlist = np.arange(0.00, 20.2, 0.2)\n",
    "\n",
    "T2 = 5\n",
    "processor = Processor(1, t2=T2)\n",
    "processor.add_control(sigmaz())\n",
    "processor.pulses[0].coeff = np.ones(len(tlist))\n",
    "processor.pulses[0].tlist = tlist\n",
    "result = processor.run_state(\n",
    "    plus_state, e_ops=[Hadamard*a.dag()*a*Hadamard])\n",
    "\n",
    "fig, ax = plt.subplots()\n",
    "# detail about length of tlist needs to be fixed\n",
    "ax.plot(tlist[:-1], result.expect[0][:-1], '.', label=\"simulation\")\n",
    "ax.plot(tlist[:-1], np.exp(-1./T2*tlist[:-1])*0.5 + 0.5, label=\"theory\")\n",
    "ax.set_xlabel(\"t\")\n",
    "ax.set_ylabel(\"Ramsey signal\")\n",
    "ax.legend()\n",
    "ax.set_title(\"Relaxation T2=5\")\n",
    "ax.grid()\n",
    "fig.tight_layout()\n",
    "fig.show()"
   ]
  },
  {
   "cell_type": "code",
   "execution_count": null,
   "id": "86d69e89",
   "metadata": {},
   "outputs": [],
   "source": [
    "\n",
    "\n"
   ]
  }
 ],
 "metadata": {
  "kernelspec": {
   "display_name": "Python 3 (ipykernel)",
   "language": "python",
   "name": "python3"
  },
  "language_info": {
   "codemirror_mode": {
    "name": "ipython",
    "version": 3
   },
   "file_extension": ".py",
   "mimetype": "text/x-python",
   "name": "python",
   "nbconvert_exporter": "python",
   "pygments_lexer": "ipython3",
   "version": "3.10.4"
  }
 },
 "nbformat": 4,
 "nbformat_minor": 5
}
