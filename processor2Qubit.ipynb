{
 "cells": [
  {
   "cell_type": "code",
   "execution_count": 1,
   "id": "a38ad4f6",
   "metadata": {},
   "outputs": [],
   "source": [
    "%matplotlib inline\n",
    "import matplotlib.pyplot as plt\n",
    "import matplotlib as mpl\n",
    "import numpy as np\n",
    "from IPython.display import Image\n",
    "from qutip import *\n",
    "from math import sqrt\n",
    "\n",
    "\n",
    "from qutip.qip.device import Processor\n",
    "from qutip_qip.device import CavityQEDModel\n",
    "from qutip.qip.compiler import CavityQEDCompiler\n",
    "from qutip.qip.pulse import Pulse\n",
    "from qutip.operators import sigmaz, sigmay, sigmax, destroy\n",
    "from qutip.states import basis\n",
    "from qutip.metrics import fidelity\n",
    "from qutip.qip.operations import rx, ry, rz, hadamard_transform"
   ]
  },
  {
   "cell_type": "code",
   "execution_count": 5,
   "id": "7ff2c5d5",
   "metadata": {},
   "outputs": [],
   "source": [
    "GHz = 10**9 #Hz\n",
    "wq1 = 3.04 * 2* np.pi#* GHz # 6.617 * GHz * 2* np.pi # wq = sqrt(8EjEc)\n",
    "wq2 = 3.00 * 2* np.pi#* GHz # 2.88 * GHz * 2* np.pi # 6.529 * GHz * 2* np.pi\n",
    "wc = 3 * 2 * np.pi #* GHz # 5.19 * GHz * 2 * np.pi\n",
    "g1 = 0.04 * 2 * np.pi #* GHz  # 0.105 * GHz * 2 * np.pi\n",
    "g2 = 0.04 * 2 * np.pi #* GHz # g1\n",
    "# cavity dissapation rate\n",
    "kappa = 0#0.033 * 2 * np.pi * GHz\n",
    "# qubit dissapation rate\n",
    "gamma1 = 0.0#0.00261 * GHz * 2* np.pi\n",
    "gamma2 = gamma1"
   ]
  },
  {
   "cell_type": "code",
   "execution_count": 7,
   "id": "e0a5e1ba",
   "metadata": {},
   "outputs": [],
   "source": [
    "# https://notebook.community/qutip/qutip-notebooks/examples/qip-noisy-device-simulator\n",
    "# still don't know how to add detuning of qubits\n",
    "processor = CavityQEDModel(num_qubits=2, num_levels=10, w0=wc, g=[g1,g2])"
   ]
  },
  {
   "cell_type": "code",
   "execution_count": 9,
   "id": "f4e193cc",
   "metadata": {},
   "outputs": [
    {
     "ename": "AttributeError",
     "evalue": "'CavityQEDModel' object has no attribute 'run'",
     "output_type": "error",
     "traceback": [
      "\u001b[0;31m---------------------------------------------------------------------------\u001b[0m",
      "\u001b[0;31mAttributeError\u001b[0m                            Traceback (most recent call last)",
      "Input \u001b[0;32mIn [9]\u001b[0m, in \u001b[0;36m<cell line: 2>\u001b[0;34m()\u001b[0m\n\u001b[1;32m      1\u001b[0m psi0 \u001b[38;5;241m=\u001b[39m tensor(basis(\u001b[38;5;241m10\u001b[39m,\u001b[38;5;241m1\u001b[39m), basis(\u001b[38;5;241m2\u001b[39m,\u001b[38;5;241m0\u001b[39m), basis(\u001b[38;5;241m2\u001b[39m,\u001b[38;5;241m0\u001b[39m))\n\u001b[0;32m----> 2\u001b[0m result \u001b[38;5;241m=\u001b[39m \u001b[43mprocessor\u001b[49m\u001b[38;5;241;43m.\u001b[39;49m\u001b[43mrun\u001b[49m(init_state\u001b[38;5;241m=\u001b[39mpsi0)\n",
      "\u001b[0;31mAttributeError\u001b[0m: 'CavityQEDModel' object has no attribute 'run'"
     ]
    }
   ],
   "source": [
    "psi0 = tensor(basis(10,1), basis(2,0), basis(2,0))\n",
    "result = processor.run(init_state=psi0)"
   ]
  },
  {
   "cell_type": "code",
   "execution_count": null,
   "id": "fda91fe4",
   "metadata": {},
   "outputs": [],
   "source": []
  }
 ],
 "metadata": {
  "kernelspec": {
   "display_name": "Python 3 (ipykernel)",
   "language": "python",
   "name": "python3"
  },
  "language_info": {
   "codemirror_mode": {
    "name": "ipython",
    "version": 3
   },
   "file_extension": ".py",
   "mimetype": "text/x-python",
   "name": "python",
   "nbconvert_exporter": "python",
   "pygments_lexer": "ipython3",
   "version": "3.10.4"
  }
 },
 "nbformat": 4,
 "nbformat_minor": 5
}
