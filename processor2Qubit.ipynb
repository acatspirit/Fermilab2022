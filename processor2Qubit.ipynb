{
 "cells": [
  {
   "cell_type": "code",
   "execution_count": 1,
   "id": "df5cfc8c",
   "metadata": {},
   "outputs": [],
   "source": [
    "%matplotlib inline\n",
    "import matplotlib.pyplot as plt\n",
    "import matplotlib\n",
    "matplotlib.use('TkAgg')\n",
    "import matplotlib as mpl\n",
    "import numpy as np\n",
    "from IPython.display import Image\n",
    "from qutip import *\n",
    "from math import sqrt\n",
    "\n",
    "\n",
    "from qutip.qip.device import Processor\n",
    "from qutip_qip.device import CavityQEDModel\n",
    "from qutip_qip.device import DispersiveCavityQED\n",
    "from qutip.qip.compiler import CavityQEDCompiler\n",
    "from qutip.qip.pulse import Pulse\n",
    "from qutip.operators import sigmaz, sigmay, sigmax, destroy\n",
    "from qutip.states import basis\n",
    "from qutip.metrics import fidelity\n",
    "from qutip.qip.operations import rx, ry, rz, hadamard_transform, cphase\n",
    "from qutip_qip.circuit import QubitCircuit, Gate\n",
    "from qutip.qip.operations import cnot, snot\n",
    "\n",
    "\n",
    "#https://nbviewer.ipython.org/github/qutip/qutip-notebooks/blob/master/examples/qip-randomized-benchmarking.ipynb"
   ]
  },
  {
   "cell_type": "code",
   "execution_count": 2,
   "id": "251ba52f",
   "metadata": {},
   "outputs": [],
   "source": [
    "GHz = 10**9 #Hz\n",
    "wq1 = 3.04 #* GHz # 6.617 * GHz * 2* np.pi # wq = sqrt(8EjEc)\n",
    "wq2 = 3.00 #* GHz # 2.88 * GHz * 2* np.pi # 6.529 * GHz * 2* np.pi\n",
    "wc = 3  #* GHz # 5.19 * GHz * 2 * np.pi\n",
    "g1 = 0.04 #* GHz  # 0.105 * GHz * 2 * np.pi\n",
    "g2 = 0.04 #* GHz # g1\n",
    "f = 0.5\n",
    "amp = 0.1\n",
    "# cavity dissapation rate\n",
    "kappa = 0#0.033 * 2 * np.pi * GHz\n",
    "# qubit dissapation rate\n",
    "gamma1 = 0.0#0.00261 * GHz * 2* np.pi\n",
    "gamma2 = gamma1\n",
    "num_qubits = 1\n",
    "num_c_levels = 2"
   ]
  },
  {
   "cell_type": "code",
   "execution_count": 3,
   "id": "6e2c2e3d",
   "metadata": {},
   "outputs": [],
   "source": [
    "# add operators and make circuit\n",
    "T2 = 10/f\n",
    "# tlist = np.arange(0.00, 20.2, 0.2) # later"
   ]
  },
  {
   "cell_type": "code",
   "execution_count": 7,
   "id": "4bdf3f6a",
   "metadata": {},
   "outputs": [],
   "source": [
    "# https://notebook.community/qutip/qutip-notebooks/examples/qip-noisy-device-simulator\n",
    "# still don't know how to add detuning of qubits\n",
    "processor = DispersiveCavityQED(num_qubits=num_qubits, num_levels = num_c_levels, sx=amp/2, w0=wc, g=g1, t2=T2)\n",
    "ham_idle = 2*np.pi * sigmaz()/2 * f\n",
    "resonant_sx = 2*np.pi * sigmax () - ham_idle / (amp/2)\n",
    "processor.add_drift(ham_idle, targets =0)\n",
    "processor.add_control (resonant_sx , targets =0 , label =\"sx0\")"
   ]
  },
  {
   "cell_type": "code",
   "execution_count": 9,
   "id": "a6474744",
   "metadata": {},
   "outputs": [
    {
     "data": {
      "image/png": "[encoded data removed]",
      "text/plain": [
       "<Figure size 432x288 with 1 Axes>"
      ]
     },
     "execution_count": 9,
     "metadata": {},
     "output_type": "execute_result"
    }
   ],
   "source": [
    "def ramsey(t,proc):\n",
    "    qc = QubitCircuit(1)\n",
    "    qc.add_gate(\"RX\", 0 , arg_value =np.pi )\n",
    "    qc.add_gate(\"IDLE\", 0, arg_value = t )\n",
    "    qc.add_gate(\"RX\", 0 , arg_value =np.pi)\n",
    "    proc.load_circuit(qc)\n",
    "    result = processor.run_state(init_state=tensor(basis(2,0),basis(2,0)).unit(), e_ops=tensor(sigmaz(),identity(2)),options=Options(nsteps=50000))\n",
    "    return result.expect[0][-1]\n",
    "\n",
    "tlist = np.arange(0.0,30.0,0.1)\n",
    "output = []\n",
    "for t in tlist:\n",
    "    output += [ramsey(t,processor)]\n",
    "fig, ax = plt.subplots()\n",
    "# # detail about length of tlist needs to be fixed\n",
    "ax.plot(tlist, output, '.', label=\"simulation\")\n",
    "ax.plot(tlist, np.exp(-1./T2*tlist)*0.5 + 0.5, label=\"theory\")\n",
    "ax.set_xlabel(\"t\")\n",
    "ax.set_ylabel(\"Ramsey signal\")\n",
    "ax.legend()\n",
    "ax.set_title(f\"Relaxation T2={T2}\")\n",
    "ax.grid()\n",
    "fig.tight_layout()\n",
    "fig"
   ]
  },
  {
   "cell_type": "code",
   "execution_count": null,
   "id": "3c5b2126",
   "metadata": {},
   "outputs": [],
   "source": [
    "def ramsey(t,proc):\n",
    "    qc = QubitCircuit(1)\n",
    "    qc.add_gate(\"RX\", 0 , arg_value =np.pi )\n",
    "    qc.add_gate(\"IDLE\", 0, arg_value = t )\n",
    "    qc.add_gate(\"RX\", 0 , arg_value =np.pi)\n",
    "    proc.load_circuit(qc)\n",
    "    result = processor.run_state(init_state=tensor(basis(2,0),basis(2,0)).unit(), e_ops=[a.dag()*a, Hadamard*a.dag()*a*Hadamard],options=Options(nsteps=50000))\n",
    "    return result.expect[0][-1]\n",
    "\n",
    "tlist = np.arange(0.0,30.0,0.1)\n",
    "output = []\n",
    "for t in tlist:\n",
    "    output += [ramsey(t,processor)]\n",
    "fig, ax = plt.subplots()\n",
    "# # detail about length of tlist needs to be fixed\n",
    "ax.plot(tlist, output, '.', label=\"simulation\")\n",
    "ax.plot(tlist, np.exp(-1./T2*tlist)*0.5 + 0.5, label=\"theory\")\n",
    "ax.set_xlabel(\"t\")\n",
    "ax.set_ylabel(\"Ramsey signal\")\n",
    "ax.legend()\n",
    "ax.set_title(f\"Relaxation T2={T2}\")\n",
    "ax.grid()\n",
    "fig.tight_layout()\n",
    "fig"
   ]
  },
  {
   "cell_type": "code",
   "execution_count": 6,
   "id": "f6c9a384",
   "metadata": {},
   "outputs": [
    {
     "data": {
      "image/png": "[encoded data removed]",
      "text/plain": [
       "<Figure size 432x288 with 1 Axes>"
      ]
     },
     "execution_count": 6,
     "metadata": {},
     "output_type": "execute_result"
    }
   ],
   "source": [
    "# to run a simulation with the processor, need to have a quantum circuit to evolve\n",
    "#initial state to feed in, not sure what dims should be\n",
    "psi0 = tensor(basis(num_c_levels,0), basis(2,1))\n",
    "# operator to get expectation value for, not sure what dims should be\n",
    "a = tensor(destroy(num_c_levels), qeye(2))\n",
    "Hadamard = tensor(snot(), identity(num_c_levels))\n",
    "# op = Hadamard*a.dag()*a*Hadamard\n",
    "sm = tensor(qeye(num_c_levels), destroy(2))\n",
    "T2 = 5\n",
    "tlist = np.arange(0.00, 20.2, 0.1)\n",
    "processor2 = DispersiveCavityQED(num_qubits=num_qubits, num_levels = num_c_levels, t2=T2)\n",
    "qc = QubitCircuit(1)\n",
    "qc.add_gate(\"RZ\", 0 , arg_value =np.pi/2 )\n",
    "processor2.load_circuit(qc)\n",
    "\n",
    "# pass in expectation values to get\n",
    "result = processor2.run_state(psi0, tlist=tlist, e_ops=[a.dag()*a, Hadamard*a.dag()*a*Hadamard], options=Options(nsteps=50000))\n",
    " \n",
    "fig, ax = plt.subplots()\n",
    "# # detail about length of tlist needs to be fixed\n",
    "ax.plot(tlist[:-1], result.expect[1][:-1], '.', label=\"simulation\")\n",
    "# ax.plot(tlist[:-1], np.exp(-1./T2*tlist[:-1])*0.5 + 0.5, label=\"theory\")\n",
    "ax.set_xlabel(\"t\")\n",
    "ax.set_ylabel(\"Ramsey signal\")\n",
    "ax.legend()\n",
    "ax.set_title(\"Relaxation T2=5\")\n",
    "ax.grid()\n",
    "fig.tight_layout()\n",
    "fig"
   ]
  },
  {
   "cell_type": "code",
   "execution_count": null,
   "id": "015c626d",
   "metadata": {},
   "outputs": [],
   "source": [
    "\n",
    "\n"
   ]
  }
 ],
 "metadata": {
  "kernelspec": {
   "display_name": "Python 3 (ipykernel)",
   "language": "python",
   "name": "python3"
  },
  "language_info": {
   "codemirror_mode": {
    "name": "ipython",
    "version": 3
   },
   "file_extension": ".py",
   "mimetype": "text/x-python",
   "name": "python",
   "nbconvert_exporter": "python",
   "pygments_lexer": "ipython3",
   "version": "3.10.4"
  }
 },
 "nbformat": 4,
 "nbformat_minor": 5
}
