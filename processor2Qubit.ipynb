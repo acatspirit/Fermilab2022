{
 "cells": [
  {
   "cell_type": "code",
   "execution_count": 2,
   "id": "df5cfc8c",
   "metadata": {},
   "outputs": [],
   "source": [
    "%matplotlib inline\n",
    "import matplotlib.pyplot as plt\n",
    "import matplotlib as mpl\n",
    "import numpy as np\n",
    "from IPython.display import Image\n",
    "from qutip import *\n",
    "from math import sqrt\n",
    "\n",
    "\n",
    "from qutip.qip.device import Processor\n",
    "from qutip_qip.device import CavityQEDModel\n",
    "from qutip_qip.device import DispersiveCavityQED\n",
    "from qutip.qip.compiler import CavityQEDCompiler\n",
    "from qutip.qip.pulse import Pulse\n",
    "from qutip.operators import sigmaz, sigmay, sigmax, destroy\n",
    "from qutip.states import basis\n",
    "from qutip.metrics import fidelity\n",
    "from qutip.qip.operations import rx, ry, rz, hadamard_transform\n",
    "from qutip.qip.circuit import QubitCircuit"
   ]
  },
  {
   "cell_type": "code",
   "execution_count": 33,
   "id": "251ba52f",
   "metadata": {},
   "outputs": [],
   "source": [
    "GHz = 10**9 #Hz\n",
    "wq1 = 3.04 * 2* np.pi#* GHz # 6.617 * GHz * 2* np.pi # wq = sqrt(8EjEc)\n",
    "wq2 = 3.00 * 2* np.pi#* GHz # 2.88 * GHz * 2* np.pi # 6.529 * GHz * 2* np.pi\n",
    "wc = 3 * 2 * np.pi #* GHz # 5.19 * GHz * 2 * np.pi\n",
    "g1 = 0.04 * 2 * np.pi #* GHz  # 0.105 * GHz * 2 * np.pi\n",
    "g2 = 0.04 * 2 * np.pi #* GHz # g1\n",
    "# cavity dissapation rate\n",
    "kappa = 0#0.033 * 2 * np.pi * GHz\n",
    "# qubit dissapation rate\n",
    "gamma1 = 0.0#0.00261 * GHz * 2* np.pi\n",
    "gamma2 = gamma1\n",
    "num_qubits = 1"
   ]
  },
  {
   "cell_type": "code",
   "execution_count": 34,
   "id": "6e2c2e3d",
   "metadata": {},
   "outputs": [],
   "source": [
    "# add operators and make circuit\n",
    "T2 = 5\n",
    "qc = QubitCircuit(1)\n",
    "qc.add_gate(\"RZ\", 0, arg_value=np.pi)\n",
    "# tlist = np.arange(0.00, 20.2, 0.2) # later"
   ]
  },
  {
   "cell_type": "code",
   "execution_count": 41,
   "id": "4bdf3f6a",
   "metadata": {},
   "outputs": [
    {
     "name": "stderr",
     "output_type": "stream",
     "text": [
      "/opt/anaconda3/envs/qutip-env/lib/python3.10/site-packages/qutip_qip/device/cavityqed.py:337: UserWarning: The rotating-wave approximation might not be valid.\n",
      "  warnings.warn(\n"
     ]
    }
   ],
   "source": [
    "# https://notebook.community/qutip/qutip-notebooks/examples/qip-noisy-device-simulator\n",
    "# still don't know how to add detuning of qubits\n",
    "# model = CavityQEDModel(num_qubits=num_qubits, w0=wc, g=g1)\n",
    "processor = DispersiveCavityQED(num_qubits=num_qubits, w0=wc, g=g1)\n",
    "processor.add_control(sigmaz())\n",
    "#processor.load_circuit(qc)"
   ]
  },
  {
   "cell_type": "code",
   "execution_count": 39,
   "id": "a6474744",
   "metadata": {},
   "outputs": [
    {
     "name": "stdout",
     "output_type": "stream",
     "text": [
      "Quantum object: dims = [[2], [2]], shape = (2, 2), type = oper, isherm = True\n",
      "Qobj data =\n",
      "[[1. 0.]\n",
      " [0. 0.]]\n"
     ]
    },
    {
     "data": {
      "image/png": "[encoded data removed]",
      "text/plain": [
       "<Figure size 800x400 with 3 Axes>"
      ]
     },
     "metadata": {},
     "output_type": "display_data"
    }
   ],
   "source": [
    "# to run a simulation with the processor, need to have a quantum circuit to evolve\n",
    "#initial state to feed in, not sure what dims should be\n",
    "psi0 = basis([10, 2], [0, 0]) \n",
    "\n",
    "# operator to get expectation value for, not sure what dims should be\n",
    "a = tensor(destroy(2),qeye(2))\n",
    "n = a.dag()*a\n",
    "\n",
    "# pass in expectation values to get\n",
    "result = processor.run_state(psi0, tlist = tlist, options=Options(nsteps=50000))\n",
    "\n",
    "# print this out to see whether it worked\n",
    "final_state = result.states[-1].ptrace([1])\n",
    "print(final_state)\n",
    "# print(result)\n",
    "processor.plot_pulses(title=\"Pulse works\", figsize=(8, 4), dpi=100);"
   ]
  },
  {
   "cell_type": "code",
   "execution_count": 117,
   "id": "2af017a2",
   "metadata": {},
   "outputs": [
    {
     "name": "stdout",
     "output_type": "stream",
     "text": [
      "[]\n"
     ]
    },
    {
     "ename": "AttributeError",
     "evalue": "'list' object has no attribute 'coeff'",
     "output_type": "error",
     "traceback": [
      "\u001b[0;31m---------------------------------------------------------------------------\u001b[0m",
      "\u001b[0;31mAttributeError\u001b[0m                            Traceback (most recent call last)",
      "Input \u001b[0;32mIn [117]\u001b[0m, in \u001b[0;36m<cell line: 10>\u001b[0;34m()\u001b[0m\n\u001b[1;32m      8\u001b[0m processor\u001b[38;5;241m.\u001b[39madd_control(sigmaz(), targets\u001b[38;5;241m=\u001b[39m\u001b[38;5;241m0\u001b[39m)\n\u001b[1;32m      9\u001b[0m \u001b[38;5;28mprint\u001b[39m(processor\u001b[38;5;241m.\u001b[39mpulses)\n\u001b[0;32m---> 10\u001b[0m processor\u001b[38;5;241m.\u001b[39mpulses\u001b[38;5;241m.\u001b[39mcoeff \u001b[38;5;241m=\u001b[39m np\u001b[38;5;241m.\u001b[39mones(\u001b[38;5;28mlen\u001b[39m(tlist))\n\u001b[1;32m     11\u001b[0m processor\u001b[38;5;241m.\u001b[39mpulses\u001b[38;5;241m.\u001b[39mtlist \u001b[38;5;241m=\u001b[39m tlist\n\u001b[1;32m     12\u001b[0m tlist \u001b[38;5;241m=\u001b[39m np\u001b[38;5;241m.\u001b[39marange(\u001b[38;5;241m0.00\u001b[39m, \u001b[38;5;241m20.2\u001b[39m, \u001b[38;5;241m0.2\u001b[39m)\n",
      "\u001b[0;31mAttributeError\u001b[0m: 'list' object has no attribute 'coeff'"
     ]
    }
   ],
   "source": [
    "a = destroy(2)\n",
    "Hadamard = snot()\n",
    "plus_state =  basis([10,2],[0,0])\n",
    "op = tensor(qeye(10), Hadamard*a.dag()*a*Hadamard)\n",
    "T2 = 5\n",
    "\n",
    "processor = DispersiveCavityQED(1,w0=wc,g=g1,t2=T2)\n",
    "processor.add_control(sigmaz(), targets=0)\n",
    "print(processor.pulses)\n",
    "processor.pulses[0].coeff = np.ones(len(tlist))\n",
    "processor.pulses[0].tlist = tlist\n",
    "tlist = np.arange(0.00, 20.2, 0.2)\n",
    "result = processor.run_state(\n",
    "    plus_state, tlist=tlist, e_ops=op)\n",
    "result.expect[0][:-1]\n",
    "\n",
    "fig, ax = plt.subplots()\n",
    "# detail about length of tlist needs to be fixed\n",
    "ax.plot(tlist[:-1], result.expect[0][:-1], '.', label=\"simulation\")\n",
    "ax.plot(tlist[:-1], np.exp(-1./T2*tlist[:-1])*0.5 + 0.5, label=\"theory\")\n",
    "ax.set_xlabel(\"t\")\n",
    "ax.set_ylabel(\"Ramsey signal\")\n",
    "ax.legend()\n",
    "ax.set_title(\"Relaxation T2=5\")\n",
    "ax.grid()\n",
    "fig.tight_layout()\n",
    "fig.show()"
   ]
  },
  {
   "cell_type": "code",
   "execution_count": 75,
   "id": "9633fc32",
   "metadata": {},
   "outputs": [
    {
     "name": "stderr",
     "output_type": "stream",
     "text": [
      "/var/folders/m6/1pcn_m250l175cmxwtstjnxh0000gn/T/ipykernel_921/3853142120.py:30: UserWarning: Matplotlib is currently using module://matplotlib_inline.backend_inline, which is a non-GUI backend, so cannot show the figure.\n",
      "  fig.show()\n"
     ]
    },
    {
     "data": {
      "image/png": "[encoded data removed]",
      "text/plain": [
       "<Figure size 432x288 with 1 Axes>"
      ]
     },
     "metadata": {
      "needs_background": "light"
     },
     "output_type": "display_data"
    }
   ],
   "source": [
    "import numpy as np\n",
    "import matplotlib.pyplot as plt\n",
    "from qutip import sigmaz, destroy, basis\n",
    "from qutip.qip.device import Processor\n",
    "from qutip.qip.operations import snot\n",
    "\n",
    "a = destroy(2)\n",
    "Hadamard = snot()\n",
    "plus_state = (basis(2,1) + basis(2,0)).unit()\n",
    "tlist = np.arange(0.00, 20.2, 0.2)\n",
    "\n",
    "T2 = 5\n",
    "processor = Processor(1, t2=T2)\n",
    "processor.add_control(sigmaz())\n",
    "processor.pulses[0].coeff = np.ones(len(tlist))\n",
    "processor.pulses[0].tlist = tlist\n",
    "result = processor.run_state(\n",
    "    plus_state, e_ops=[Hadamard*a.dag()*a*Hadamard])\n",
    "\n",
    "fig, ax = plt.subplots()\n",
    "# detail about length of tlist needs to be fixed\n",
    "ax.plot(tlist[:-1], result.expect[0][:-1], '.', label=\"simulation\")\n",
    "ax.plot(tlist[:-1], np.exp(-1./T2*tlist[:-1])*0.5 + 0.5, label=\"theory\")\n",
    "ax.set_xlabel(\"t\")\n",
    "ax.set_ylabel(\"Ramsey signal\")\n",
    "ax.legend()\n",
    "ax.set_title(\"Relaxation T2=5\")\n",
    "ax.grid()\n",
    "fig.tight_layout()\n",
    "fig.show()"
   ]
  },
  {
   "cell_type": "code",
   "execution_count": null,
   "id": "db2a0586",
   "metadata": {},
   "outputs": [],
   "source": []
  }
 ],
 "metadata": {
  "kernelspec": {
   "display_name": "Python 3 (ipykernel)",
   "language": "python",
   "name": "python3"
  },
  "language_info": {
   "codemirror_mode": {
    "name": "ipython",
    "version": 3
   },
   "file_extension": ".py",
   "mimetype": "text/x-python",
   "name": "python",
   "nbconvert_exporter": "python",
   "pygments_lexer": "ipython3",
   "version": "3.10.4"
  }
 },
 "nbformat": 4,
 "nbformat_minor": 5
}
