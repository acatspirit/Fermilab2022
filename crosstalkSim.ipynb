{
 "cells": [
  {
   "cell_type": "code",
   "execution_count": 21,
   "id": "2deb2b11",
   "metadata": {},
   "outputs": [],
   "source": [
    "import matplotlib.pyplot as plt\n",
    "from scipy.optimize import curve_fit\n",
    "\n",
    "import numpy as np\n",
    "from qutip import sigmax, sigmay, sigmaz, basis, qeye, tensor, Qobj, fock_dm\n",
    "from qutip_qip.circuit import QubitCircuit, Gate\n",
    "from qutip_qip.device import ModelProcessor, Model, CavityQEDModel\n",
    "from qutip_qip.compiler import GateCompiler, Instruction, CavityQEDCompiler\n",
    "from qutip.qip.device import DispersiveCavityQED\n",
    "from qutip import Options\n",
    "from qutip_qip.noise import Noise"
   ]
  },
  {
   "cell_type": "code",
   "execution_count": 22,
   "id": "4b76fb40",
   "metadata": {},
   "outputs": [],
   "source": [
    "class ClassicalCrossTalk(Noise):\n",
    "    def __init__(self, ratio):\n",
    "        self.ratio = ratio\n",
    "\n",
    "    def get_noisy_dynamics(self, dims=None, pulses=None, systematic_noise=None):\n",
    "        \"\"\"Adds noise to the control pulses.\n",
    "        \n",
    "        Args:\n",
    "            dims: Dimension of the system, e.g., [2,2,2,...] for qubits.\n",
    "            pulses: A list of Pulse objects, representing the compiled pulses.\n",
    "            systematic_noise: A Pulse object with no ideal control, used to represent\n",
    "            pulse-independent noise such as decoherence (not used in this example).\n",
    "        Returns:\n",
    "            pulses: The list of modified pulses according to the noise model.\n",
    "            systematic_noise: A Pulse object (not used in this example). \n",
    "        \"\"\"\n",
    "        for i, pulse in enumerate(pulses):\n",
    "#             print(pulse.targets)\n",
    "            if \"sx\" not in pulse.label and \"sy\" not in pulse.label:\n",
    "                continue  # filter out other pulses, e.g. drift\n",
    "            target = pulse.targets[0]\n",
    "#             print(pulse.targets)\n",
    "            if target == [1]:  # add pulse to the left neighbour\n",
    "                pulses[i].add_control_noise(\n",
    "                    self.ratio * pulse.qobj,\n",
    "                    targets=[2],\n",
    "                    coeff=pulse.coeff,\n",
    "                    tlist=pulse.tlist,\n",
    "                )\n",
    "            if target == [1]:  # add pulse to the right neighbour\n",
    "                pulses[i].add_control_noise(\n",
    "                    self.ratio * pulse.qobj,\n",
    "                    targets=[2],\n",
    "                    coeff=pulse.coeff,\n",
    "                    tlist=pulse.tlist,\n",
    "                )\n",
    "#                 print(pulse.control_noise)\n",
    "        return pulses, systematic_noise"
   ]
  },
  {
   "cell_type": "code",
   "execution_count": 29,
   "id": "3e9666e0",
   "metadata": {},
   "outputs": [],
   "source": [
    "from joblib import Parallel, delayed\n",
    "num_gates = 10\n",
    "num_sample = 2\n",
    "fidelity = []\n",
    "fidelity_error = []\n",
    "init_fid = 0.975\n",
    "num_gates_list = [250]\n",
    "#num_gates_list = [250, 500, 750, 1000, 1250, 1500]\n",
    "\n",
    "num_qubits = 2\n",
    "num_c_levels = 10\n",
    "target_q = 1 # is the cavity included in this list? assuming ... \n",
    "\"\"\"\n",
    "0 - cavity\n",
    "1 - qubit 1\n",
    "2 - qubit 2\n",
    "\n",
    "qubit 2 does not receive signal directly\n",
    "\"\"\"\n",
    "\n",
    "qc = QubitCircuit(num_gates)\n",
    "model = CavityQEDModel(2)\n",
    "\n",
    "def single_crosstalk_sim(num_gates):\n",
    "    #proc = ModelProcessor(model=model)\n",
    "    proc = DispersiveCavityQED(2)\n",
    "    proc.add_drift(2 * np.pi * (sigmaz() + 1) / 2 * 1.852, targets=[2])\n",
    "    proc.native_gates = None\n",
    "    #comp = CavityQEDCompiler(GateCompiler, params = model.params)\n",
    "\n",
    "\n",
    "    print(type(ClassicalCrossTalk(1.0)))\n",
    "    proc.add_noise(ClassicalCrossTalk(1.0))\n",
    "\n",
    "\n",
    "    gates_set = [ # what should the targets be ? Is the cavity included in the targets list?\n",
    "            Gate(\"RX\", targets=[target_q], arg_value=0), # rx\n",
    "            Gate(\"RX\", targets=[target_q], arg_value=np.pi / 2),\n",
    "            Gate(\"RX\", targets=[target_q], arg_value=np.pi),\n",
    "            Gate(\"RX\", targets=[target_q], arg_value=np.pi / 2 * 3),\n",
    "    ]\n",
    "\n",
    "    for ind in np.random.randint(0, 4, num_gates):\n",
    "        qc.add_gate(gates_set[ind])\n",
    "\n",
    "\n",
    "    #proc.load_circuit(qc,compiler=comp) \n",
    "    proc.load_circuit(qc)\n",
    "\n",
    "    pulseL = proc.get_noisy_pulses()\n",
    "    for pulse in pulseL:\n",
    "        pulse.print_info()\n",
    "\n",
    "\n",
    "    init_state = tensor([qeye(num_c_levels),Qobj([[init_fid, 0], [0, 0.025]]), Qobj([[init_fid, 0], [0, 0.025]])])\n",
    "    options = Options(nsteps=10000)\n",
    "    e_ops = [tensor([qeye(num_c_levels), qeye(2), fock_dm(2)])]\n",
    "    result = proc.run_state(init_state, e_ops=e_ops, options=options)\n",
    "    result = result.expect[0][-1]\n",
    "    print(result)\n",
    "    return result"
   ]
  },
  {
   "cell_type": "code",
   "execution_count": 30,
   "id": "e0a27da7",
   "metadata": {},
   "outputs": [
    {
     "name": "stdout",
     "output_type": "stream",
     "text": [
      "<class '__main__.ClassicalCrossTalk'>\n"
     ]
    },
    {
     "ename": "TypeError",
     "evalue": "Input is not a Noise object.",
     "output_type": "error",
     "traceback": [
      "\u001b[0;31m---------------------------------------------------------------------------\u001b[0m",
      "\u001b[0;31mTypeError\u001b[0m                                 Traceback (most recent call last)",
      "Input \u001b[0;32mIn [30]\u001b[0m, in \u001b[0;36m<cell line: 1>\u001b[0;34m()\u001b[0m\n\u001b[1;32m      1\u001b[0m \u001b[38;5;28;01mfor\u001b[39;00m num_gates \u001b[38;5;129;01min\u001b[39;00m num_gates_list:\n\u001b[1;32m      2\u001b[0m     \u001b[38;5;66;03m# expect = Parallel(n_jobs=8)(delayed(single_crosstalk_simulation)(num_gates) for i in range(num_sample))\u001b[39;00m\n\u001b[0;32m----> 3\u001b[0m     expect \u001b[38;5;241m=\u001b[39m [single_crosstalk_sim(num_gates) \u001b[38;5;28;01mfor\u001b[39;00m i \u001b[38;5;129;01min\u001b[39;00m \u001b[38;5;28mrange\u001b[39m(num_sample)]\n\u001b[1;32m      4\u001b[0m     \u001b[38;5;28mprint\u001b[39m(expect)\n\u001b[1;32m      5\u001b[0m     fidelity\u001b[38;5;241m.\u001b[39mappend(np\u001b[38;5;241m.\u001b[39mmean(expect))\n",
      "Input \u001b[0;32mIn [30]\u001b[0m, in \u001b[0;36m<listcomp>\u001b[0;34m(.0)\u001b[0m\n\u001b[1;32m      1\u001b[0m \u001b[38;5;28;01mfor\u001b[39;00m num_gates \u001b[38;5;129;01min\u001b[39;00m num_gates_list:\n\u001b[1;32m      2\u001b[0m     \u001b[38;5;66;03m# expect = Parallel(n_jobs=8)(delayed(single_crosstalk_simulation)(num_gates) for i in range(num_sample))\u001b[39;00m\n\u001b[0;32m----> 3\u001b[0m     expect \u001b[38;5;241m=\u001b[39m [\u001b[43msingle_crosstalk_sim\u001b[49m\u001b[43m(\u001b[49m\u001b[43mnum_gates\u001b[49m\u001b[43m)\u001b[49m \u001b[38;5;28;01mfor\u001b[39;00m i \u001b[38;5;129;01min\u001b[39;00m \u001b[38;5;28mrange\u001b[39m(num_sample)]\n\u001b[1;32m      4\u001b[0m     \u001b[38;5;28mprint\u001b[39m(expect)\n\u001b[1;32m      5\u001b[0m     fidelity\u001b[38;5;241m.\u001b[39mappend(np\u001b[38;5;241m.\u001b[39mmean(expect))\n",
      "Input \u001b[0;32mIn [29]\u001b[0m, in \u001b[0;36msingle_crosstalk_sim\u001b[0;34m(num_gates)\u001b[0m\n\u001b[1;32m     29\u001b[0m \u001b[38;5;66;03m#comp = CavityQEDCompiler(GateCompiler, params = model.params)\u001b[39;00m\n\u001b[1;32m     32\u001b[0m \u001b[38;5;28mprint\u001b[39m(\u001b[38;5;28mtype\u001b[39m(ClassicalCrossTalk(\u001b[38;5;241m1.0\u001b[39m)))\n\u001b[0;32m---> 33\u001b[0m \u001b[43mproc\u001b[49m\u001b[38;5;241;43m.\u001b[39;49m\u001b[43madd_noise\u001b[49m\u001b[43m(\u001b[49m\u001b[43mClassicalCrossTalk\u001b[49m\u001b[43m(\u001b[49m\u001b[38;5;241;43m1.0\u001b[39;49m\u001b[43m)\u001b[49m\u001b[43m)\u001b[49m\n\u001b[1;32m     36\u001b[0m gates_set \u001b[38;5;241m=\u001b[39m [ \u001b[38;5;66;03m# what should the targets be ? Is the cavity included in the targets list?\u001b[39;00m\n\u001b[1;32m     37\u001b[0m         Gate(\u001b[38;5;124m\"\u001b[39m\u001b[38;5;124mRX\u001b[39m\u001b[38;5;124m\"\u001b[39m, targets\u001b[38;5;241m=\u001b[39m[target_q], arg_value\u001b[38;5;241m=\u001b[39m\u001b[38;5;241m0\u001b[39m), \u001b[38;5;66;03m# rx\u001b[39;00m\n\u001b[1;32m     38\u001b[0m         Gate(\u001b[38;5;124m\"\u001b[39m\u001b[38;5;124mRX\u001b[39m\u001b[38;5;124m\"\u001b[39m, targets\u001b[38;5;241m=\u001b[39m[target_q], arg_value\u001b[38;5;241m=\u001b[39mnp\u001b[38;5;241m.\u001b[39mpi \u001b[38;5;241m/\u001b[39m \u001b[38;5;241m2\u001b[39m),\n\u001b[1;32m     39\u001b[0m         Gate(\u001b[38;5;124m\"\u001b[39m\u001b[38;5;124mRX\u001b[39m\u001b[38;5;124m\"\u001b[39m, targets\u001b[38;5;241m=\u001b[39m[target_q], arg_value\u001b[38;5;241m=\u001b[39mnp\u001b[38;5;241m.\u001b[39mpi),\n\u001b[1;32m     40\u001b[0m         Gate(\u001b[38;5;124m\"\u001b[39m\u001b[38;5;124mRX\u001b[39m\u001b[38;5;124m\"\u001b[39m, targets\u001b[38;5;241m=\u001b[39m[target_q], arg_value\u001b[38;5;241m=\u001b[39mnp\u001b[38;5;241m.\u001b[39mpi \u001b[38;5;241m/\u001b[39m \u001b[38;5;241m2\u001b[39m \u001b[38;5;241m*\u001b[39m \u001b[38;5;241m3\u001b[39m),\n\u001b[1;32m     41\u001b[0m ]\n\u001b[1;32m     43\u001b[0m \u001b[38;5;28;01mfor\u001b[39;00m ind \u001b[38;5;129;01min\u001b[39;00m np\u001b[38;5;241m.\u001b[39mrandom\u001b[38;5;241m.\u001b[39mrandint(\u001b[38;5;241m0\u001b[39m, \u001b[38;5;241m4\u001b[39m, num_gates):\n",
      "File \u001b[0;32m/opt/anaconda3/envs/qutip-env/lib/python3.10/site-packages/qutip/qip/device/processor.py:441\u001b[0m, in \u001b[0;36mProcessor.add_noise\u001b[0;34m(self, noise)\u001b[0m\n\u001b[1;32m    439\u001b[0m     \u001b[38;5;28mself\u001b[39m\u001b[38;5;241m.\u001b[39mnoise\u001b[38;5;241m.\u001b[39mappend(noise)\n\u001b[1;32m    440\u001b[0m \u001b[38;5;28;01melse\u001b[39;00m:\n\u001b[0;32m--> 441\u001b[0m     \u001b[38;5;28;01mraise\u001b[39;00m \u001b[38;5;167;01mTypeError\u001b[39;00m(\u001b[38;5;124m\"\u001b[39m\u001b[38;5;124mInput is not a Noise object.\u001b[39m\u001b[38;5;124m\"\u001b[39m)\n",
      "\u001b[0;31mTypeError\u001b[0m: Input is not a Noise object."
     ]
    }
   ],
   "source": [
    "for num_gates in num_gates_list:\n",
    "    # expect = Parallel(n_jobs=8)(delayed(single_crosstalk_simulation)(num_gates) for i in range(num_sample))\n",
    "    expect = [single_crosstalk_sim(num_gates) for i in range(num_sample)]\n",
    "    print(expect)\n",
    "    fidelity.append(np.mean(expect))\n",
    "    fidelity_error.append(np.std(expect)/np.sqrt(num_sample))\n",
    "# single_crosstalk_sim(num_gates) #changes based on how many times I run the program"
   ]
  },
  {
   "cell_type": "code",
   "execution_count": 13,
   "id": "0bc8f398",
   "metadata": {},
   "outputs": [
    {
     "name": "stderr",
     "output_type": "stream",
     "text": [
      "/opt/anaconda3/envs/qutip-env/lib/python3.10/site-packages/scipy/optimize/_minpack_py.py:881: OptimizeWarning: Covariance of the parameters could not be estimated\n",
      "  warnings.warn('Covariance of the parameters could not be estimated',\n"
     ]
    },
    {
     "data": {
      "image/png": "[encoded data removed]",
      "text/plain": [
       "<Figure size 500x300 with 1 Axes>"
      ]
     },
     "metadata": {
      "needs_background": "light"
     },
     "output_type": "display_data"
    }
   ],
   "source": [
    "def rb_curve(x, a):\n",
    "    return (1 / 2 + np.exp(-2 * a * x) / 2) * 0.975\n",
    "\n",
    "\n",
    "pos, cov = curve_fit(rb_curve, num_gates_list, fidelity, p0=[0.001])\n",
    "\n",
    "xline = np.linspace(0, 1700, 200)\n",
    "yline = rb_curve(xline, *pos)\n",
    "\n",
    "fig, ax = plt.subplots(figsize=(5, 3), dpi=100)\n",
    "ax.errorbar(\n",
    "    num_gates_list, fidelity, yerr=fidelity_error, fmt=\".\", capsize=2, color=\"slategrey\"\n",
    ")\n",
    "# ax.plot(xline, yline, color=\"slategrey\")\n",
    "ax.plot(num_gates_list, fidelity, color=\"slategrey\")\n",
    "ax.set_ylabel(\"Average fidelity\")\n",
    "ax.set_xlabel(r\"Number of $\\pi$ rotations\")\n",
    "ax.set_xlim((0, 1700));"
   ]
  },
  {
   "cell_type": "code",
   "execution_count": null,
   "id": "5098ed1e",
   "metadata": {},
   "outputs": [],
   "source": []
  }
 ],
 "metadata": {
  "kernelspec": {
   "display_name": "Python 3 (ipykernel)",
   "language": "python",
   "name": "python3"
  },
  "language_info": {
   "codemirror_mode": {
    "name": "ipython",
    "version": 3
   },
   "file_extension": ".py",
   "mimetype": "text/x-python",
   "name": "python",
   "nbconvert_exporter": "python",
   "pygments_lexer": "ipython3",
   "version": "3.10.4"
  }
 },
 "nbformat": 4,
 "nbformat_minor": 5
}
